{
 "cells": [
  {
   "cell_type": "markdown",
   "id": "ed441a66-d336-4c85-a8ca-f750679dc8e0",
   "metadata": {},
   "source": [
    "## PySpark Test"
   ]
  },
  {
   "cell_type": "code",
   "execution_count": 5,
   "id": "45b0766f-e8eb-4560-9c63-9ccc841d97a1",
   "metadata": {},
   "outputs": [
    {
     "data": {
      "text/html": [
       "\n",
       "            <div>\n",
       "                <p><b>SparkSession - in-memory</b></p>\n",
       "                \n",
       "        <div>\n",
       "            <p><b>SparkContext</b></p>\n",
       "\n",
       "            <p><a href=\"http://Student-PC:4040\">Spark UI</a></p>\n",
       "\n",
       "            <dl>\n",
       "              <dt>Version</dt>\n",
       "                <dd><code>v3.1.2</code></dd>\n",
       "              <dt>Master</dt>\n",
       "                <dd><code>local[*]</code></dd>\n",
       "              <dt>AppName</dt>\n",
       "                <dd><code>sqldemo</code></dd>\n",
       "            </dl>\n",
       "        </div>\n",
       "        \n",
       "            </div>\n",
       "        "
      ],
      "text/plain": [
       "<pyspark.sql.session.SparkSession at 0x20b314105b0>"
      ]
     },
     "execution_count": 5,
     "metadata": {},
     "output_type": "execute_result"
    }
   ],
   "source": [
    "spark"
   ]
  },
  {
   "cell_type": "code",
   "execution_count": 2,
   "id": "3de759ee-fe90-47bd-80e2-f51c9c4cc776",
   "metadata": {},
   "outputs": [],
   "source": [
    "# import modules\n",
    "import pandas as pd\n",
    "import numpy as np\n",
    "#import matplotlib.pyplot as plt\n",
    "#import seaborn as sns"
   ]
  },
  {
   "cell_type": "code",
   "execution_count": null,
   "id": "1bb3afc5-03c8-49e1-860c-696d7074c1c2",
   "metadata": {},
   "outputs": [],
   "source": [
    "# Figures inline and set visualization style\n",
    "#%matplotlib inline\n",
    "#sns.set()"
   ]
  },
  {
   "cell_type": "code",
   "execution_count": 3,
   "id": "9966a9a9-5f8c-4afd-aca1-f2f1a060e994",
   "metadata": {},
   "outputs": [],
   "source": [
    "from pyspark.sql import SparkSession\n",
    "import pyspark.sql.functions as fn"
   ]
  },
  {
   "cell_type": "markdown",
   "id": "7c48428f-a85c-4341-8526-b6e184ed5542",
   "metadata": {},
   "source": [
    "### Light-weight PySpark Session"
   ]
  },
  {
   "cell_type": "code",
   "execution_count": 4,
   "id": "a91a0f01-3a05-4392-83c8-d7786ea4525c",
   "metadata": {},
   "outputs": [],
   "source": [
    "# Local mode\n",
    "spark = SparkSession\\\n",
    "        .builder\\\n",
    "        .appName(\"sqldemo\")\\\n",
    "        .getOrCreate()"
   ]
  },
  {
   "cell_type": "code",
   "execution_count": null,
   "id": "e5729ff5-a6a2-485e-af72-4b2dd4f08921",
   "metadata": {},
   "outputs": [],
   "source": [
    "# yarn mode\n",
    "spark = SparkSession\\\n",
    "        .builder\\\n",
    "        .master(\"yarn\")\\\n",
    "        .config('spark.executor.instances','99')\\\n",
    "        .config('spark.executor.memory','4G')\\\n",
    "        .appName(\"mldemo\")\\\n",
    "        .getOrCreate()"
   ]
  },
  {
   "cell_type": "code",
   "execution_count": null,
   "id": "c5e6fae5-aba9-4607-9b62-b133cde2d185",
   "metadata": {},
   "outputs": [],
   "source": [
    "# standalone mode\n",
    "spark = SparkSession\\\n",
    "        .builder\\\n",
    "        .master(\"spark://master.example.org:7077\")\\\n",
    "        .config('spark.cores.max','1')\\\n",
    "        .config('spark.executor.memory','1G')\\\n",
    "        .appName(\"clusterdemo\")\\\n",
    "        .getOrCreate()"
   ]
  },
  {
   "cell_type": "code",
   "execution_count": 6,
   "id": "53f380de-2716-478f-b611-238c612732ca",
   "metadata": {},
   "outputs": [
    {
     "data": {
      "text/plain": [
       "'sqldemo'"
      ]
     },
     "execution_count": 6,
     "metadata": {},
     "output_type": "execute_result"
    }
   ],
   "source": [
    "# Check spark app name\n",
    "spark.sparkContext.appName"
   ]
  },
  {
   "cell_type": "code",
   "execution_count": 7,
   "id": "cbae5d74-2c94-40bf-aa36-feb984338a8a",
   "metadata": {},
   "outputs": [],
   "source": [
    "spark.conf.set(\"spark.sql.execution.arrow.pyspark.enabled\", True)"
   ]
  },
  {
   "cell_type": "code",
   "execution_count": 11,
   "id": "093ba222-7762-4c0b-873e-2d4cc96711f7",
   "metadata": {},
   "outputs": [
    {
     "ename": "ModuleNotFoundError",
     "evalue": "No module named 'pyspark.pandas'",
     "output_type": "error",
     "traceback": [
      "\u001b[1;31m---------------------------------------------------------------------------\u001b[0m",
      "\u001b[1;31mModuleNotFoundError\u001b[0m                       Traceback (most recent call last)",
      "\u001b[1;32m~\\AppData\\Local\\Temp/ipykernel_10776/3035865874.py\u001b[0m in \u001b[0;36m<module>\u001b[1;34m\u001b[0m\n\u001b[1;32m----> 1\u001b[1;33m \u001b[1;32mimport\u001b[0m \u001b[0mpyspark\u001b[0m\u001b[1;33m.\u001b[0m\u001b[0mpandas\u001b[0m \u001b[1;32mas\u001b[0m \u001b[0mps\u001b[0m\u001b[1;33m\u001b[0m\u001b[1;33m\u001b[0m\u001b[0m\n\u001b[0m",
      "\u001b[1;31mModuleNotFoundError\u001b[0m: No module named 'pyspark.pandas'"
     ]
    }
   ],
   "source": [
    "import pyspark.pandas as ps"
   ]
  },
  {
   "cell_type": "code",
   "execution_count": null,
   "id": "e2f1132b-1d7f-4723-8d7d-2481da3e5c55",
   "metadata": {},
   "outputs": [],
   "source": [
    "ps.set_option(\"compute.default_index_type\", \"distributed\")"
   ]
  },
  {
   "cell_type": "markdown",
   "id": "17c91e83-4483-444c-92b2-6e923824842e",
   "metadata": {},
   "source": [
    "# 讀取檔案"
   ]
  },
  {
   "cell_type": "code",
   "execution_count": null,
   "id": "14fee560-e3cc-44bc-8b10-37a1d4de7fa6",
   "metadata": {},
   "outputs": [],
   "source": [
    "# 使用\"file://全路徑\"取得本機檔案\n",
    "iris_df = ps.read_csv(\"file:///home/hadoop/sparkcodes/data/iris.csv\")\n",
    "# 使用\"hdfs://bdse41.example.com:8020\"讀取分散式系統檔案\n",
    "df_train = ps.read_csv('hdfs://bdse41.example.com:8020/user/hadoop/sample_data.csv')\n",
    "# 如果有設定$Hadoop_CONF_DIR，這樣會讀取到分散式系統\n",
    "df_train = ps.read_csv('/user/hadoop/sample_data.csv')\n"
   ]
  },
  {
   "cell_type": "markdown",
   "id": "36f8df31-d960-4a19-8380-94425e30c1f8",
   "metadata": {},
   "source": [
    "## Pandas on Spark Dataframe\n",
    "### Load performance data"
   ]
  },
  {
   "cell_type": "code",
   "execution_count": null,
   "id": "037eae67-b498-4ee5-a1ef-e9eeb3461958",
   "metadata": {
    "scrolled": true
   },
   "outputs": [],
   "source": [
    "# Read CVS file\n",
    "df_train = ps.read_csv('hdfs://bdse41.example.com:8020/user/hadoop/sample_data.csv')"
   ]
  },
  {
   "cell_type": "code",
   "execution_count": null,
   "id": "aa11443e-265b-48f9-841e-a529a934de1f",
   "metadata": {},
   "outputs": [],
   "source": [
    "df_train.shape"
   ]
  },
  {
   "cell_type": "code",
   "execution_count": null,
   "id": "e0053260-8878-448b-af63-474f5ba11ecc",
   "metadata": {},
   "outputs": [],
   "source": [
    "%%timeit \n",
    "# 總共跑7次\n",
    "df_train.shape"
   ]
  },
  {
   "cell_type": "code",
   "execution_count": null,
   "id": "c30f74a1-31be-423c-92d5-48cc7c1c79f1",
   "metadata": {},
   "outputs": [],
   "source": [
    "df_train.dtypes"
   ]
  },
  {
   "cell_type": "code",
   "execution_count": null,
   "id": "b7124ad8-92b4-44b7-8d89-ee63499d6958",
   "metadata": {},
   "outputs": [],
   "source": [
    "df_train.head()"
   ]
  },
  {
   "cell_type": "code",
   "execution_count": null,
   "id": "055492e1-11f6-4f3e-9c36-59f7086ed0de",
   "metadata": {
    "scrolled": true
   },
   "outputs": [],
   "source": [
    "df_train.tail(10)"
   ]
  },
  {
   "cell_type": "code",
   "execution_count": null,
   "id": "c172ceba-389d-4b8e-b7ea-4288de5555ef",
   "metadata": {},
   "outputs": [],
   "source": [
    "# pdf will load to memory\n",
    "pdf = df_train[['Quarter','Month']].to_pandas()"
   ]
  },
  {
   "cell_type": "code",
   "execution_count": null,
   "id": "f59640b7-a1ed-408d-84fe-1138a9aa8062",
   "metadata": {},
   "outputs": [],
   "source": [
    "pdf.shape"
   ]
  },
  {
   "cell_type": "code",
   "execution_count": null,
   "id": "2dd01c36-5cc1-4a97-9da5-dee319507031",
   "metadata": {},
   "outputs": [],
   "source": []
  },
  {
   "cell_type": "markdown",
   "id": "72b0c325-f8ba-453b-8d19-b636cbc2aa3e",
   "metadata": {},
   "source": [
    "## PySpark Dataframe"
   ]
  },
  {
   "cell_type": "code",
   "execution_count": null,
   "id": "d84876a0-e635-4934-ab88-73e738a2fbff",
   "metadata": {},
   "outputs": [],
   "source": [
    "# Load csv Dataset \n",
    "sdf=spark.read.csv('hdfs://bdse41.example.com:8020/user/hadoop/yellow_2009_50m.csv',inferSchema=True,header=True)\n",
    "sdf.createOrReplaceTempView(\"dfTable\")  # 為了可以執行sql command"
   ]
  },
  {
   "cell_type": "markdown",
   "id": "b475fffe-8d7a-4afc-9ddc-0ab1a74d1cf9",
   "metadata": {},
   "source": [
    "## Inspect data"
   ]
  },
  {
   "cell_type": "code",
   "execution_count": null,
   "id": "c66d2a90-514c-4d43-8e1b-a475654a59dc",
   "metadata": {},
   "outputs": [],
   "source": [
    "# columns of dataframe\n",
    "sdf.columns"
   ]
  },
  {
   "cell_type": "code",
   "execution_count": null,
   "id": "53c9bcd3-60e3-407b-8d1f-47b2db923e76",
   "metadata": {},
   "outputs": [],
   "source": [
    "# check number of columns\n",
    "len(sdf.columns)"
   ]
  },
  {
   "cell_type": "code",
   "execution_count": null,
   "id": "f152f977-a10c-44a1-a5b8-048019e1287e",
   "metadata": {},
   "outputs": [],
   "source": [
    "%%timeit\n",
    "# number of records in dataframe\n",
    "sdf.count()"
   ]
  },
  {
   "cell_type": "code",
   "execution_count": null,
   "id": "dc9054cf-c95f-4f9b-a167-2bb3e1c931df",
   "metadata": {},
   "outputs": [],
   "source": [
    "%%timeit\n",
    "# number of records in dataframe\n",
    "sdf.count()"
   ]
  },
  {
   "cell_type": "code",
   "execution_count": null,
   "id": "3f1716da-5e3d-4111-a427-bda6484eef24",
   "metadata": {},
   "outputs": [],
   "source": [
    "# shape of dataset\n",
    "sdf.count(),len(sdf.columns)"
   ]
  },
  {
   "cell_type": "markdown",
   "id": "f83b7f85-2a35-42ea-bcfe-7c6e69e7e3ef",
   "metadata": {},
   "source": [
    "## Using Pandas UDF (Spark 3.x)\n",
    "### Load data"
   ]
  },
  {
   "cell_type": "code",
   "execution_count": null,
   "id": "158818c9-2f7d-420e-92f9-0233f9d8f7fe",
   "metadata": {},
   "outputs": [],
   "source": [
    "# Load csv Dataset \n",
    "df=spark.read.csv('hdfs://bdse41.example.com:8020/user/hadoop/sample_data.csv',inferSchema=True,header=True)\n",
    "df.createOrReplaceTempView(\"dfTable\")"
   ]
  },
  {
   "cell_type": "markdown",
   "id": "78d93b10-fecf-488c-87c4-bbb35977bd8d",
   "metadata": {},
   "source": [
    "## Inspect data"
   ]
  },
  {
   "cell_type": "code",
   "execution_count": null,
   "id": "17aaf4c1-eea8-4a56-937e-8b57555fc85a",
   "metadata": {},
   "outputs": [],
   "source": [
    "# columns of dataframe\n",
    "df.columns"
   ]
  },
  {
   "cell_type": "code",
   "execution_count": null,
   "id": "1d066206-2c56-440a-9765-f4d2572f1ec4",
   "metadata": {},
   "outputs": [],
   "source": [
    "from pyspark.sql.functions import pandas_udf, PandasUDFType"
   ]
  },
  {
   "cell_type": "code",
   "execution_count": null,
   "id": "d280979e-ae1b-4b95-b388-95cec35776ce",
   "metadata": {},
   "outputs": [],
   "source": [
    "# create pandas udf function\n",
    "@pandas_udf('int')\n",
    "def remaining_yrs3(age: pd.Series) -> pd.Series:\n",
    "    yrs_left=100-age\n",
    "    return yrs_left"
   ]
  },
  {
   "cell_type": "code",
   "execution_count": null,
   "id": "f3381292-feaf-484c-8a80-1ed4db85efc1",
   "metadata": {},
   "outputs": [],
   "source": [
    "# apply pandas udf on dataframe\n",
    "df.withColumn('yrs_left', remaining_yrs3(df['age'])).show(5)"
   ]
  },
  {
   "cell_type": "code",
   "execution_count": null,
   "id": "8317dc3e-e83a-47cb-8bda-5de058341be2",
   "metadata": {},
   "outputs": [],
   "source": [
    "# create pandas udf function\n",
    "@pandas_udf('double')\n",
    "def prod3(rating: pd.Series, exp: pd.Series) -> pd.Series:\n",
    "    x=rating*exp\n",
    "    return x"
   ]
  },
  {
   "cell_type": "code",
   "execution_count": null,
   "id": "7b4dc593-cf97-4e89-8d3c-dafc522c2dbb",
   "metadata": {},
   "outputs": [],
   "source": [
    "# apply pandas udf on multiple columns of dataframe\n",
    "df.withColumn(\"product\", prod3(df['ratings'],df['experience'])).show(5)"
   ]
  },
  {
   "cell_type": "code",
   "execution_count": null,
   "id": "bc78bf46-b22a-409b-923d-49c237ff27a7",
   "metadata": {},
   "outputs": [],
   "source": []
  }
 ],
 "metadata": {
  "kernelspec": {
   "display_name": "Python 3 (ipykernel)",
   "language": "python",
   "name": "python3"
  },
  "language_info": {
   "codemirror_mode": {
    "name": "ipython",
    "version": 3
   },
   "file_extension": ".py",
   "mimetype": "text/x-python",
   "name": "python",
   "nbconvert_exporter": "python",
   "pygments_lexer": "ipython3",
   "version": "3.8.12"
  }
 },
 "nbformat": 4,
 "nbformat_minor": 5
}
