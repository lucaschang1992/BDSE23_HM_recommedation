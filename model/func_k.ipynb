{
 "cells": [
  {
   "cell_type": "code",
   "execution_count": 1,
   "metadata": {},
   "outputs": [],
   "source": [
    "import numpy as np\n",
    "from pathlib import Path\n",
    "import pandas as pd\n",
    "from sklearn.preprocessing import LabelEncoder\n",
    "from scipy.sparse import coo_matrix\n",
    "from sklearn.neighbors import NearestNeighbors\n",
    "from sklearn.preprocessing import LabelEncoder\n",
    "from pickle import load"
   ]
  },
  {
   "cell_type": "code",
   "execution_count": 2,
   "metadata": {},
   "outputs": [],
   "source": [
    "# Load Data\n",
    "customers = pd.read_csv('../data/customers.csv')\n",
    "articles = pd.read_csv('../data/articles.csv')\n",
    "transactions = pd.read_csv('../data/transactions_train.csv')"
   ]
  },
  {
   "cell_type": "code",
   "execution_count": 86,
   "metadata": {},
   "outputs": [],
   "source": [
    "# KNN recommd function\n",
    "def recom_knn(art_ID):\n",
    "\n",
    "    query_artcile = art_ID\n",
    "\n",
    "    file = \"../data/newKnn.pickle\"\n",
    "    K = load(open(file,\"rb\"))\n",
    "    \n",
    "    ALL_USERS = customers['customer_id'].unique().tolist()\n",
    "    ALL_ITEMS = articles['article_id'].unique().tolist()\n",
    "\n",
    "    leUser = LabelEncoder().fit(ALL_USERS)\n",
    "    transactions['user_id'] = leUser.transform(transactions['customer_id'])\n",
    "    leItem = LabelEncoder().fit(ALL_ITEMS)\n",
    "    transactions['item_id'] = leItem.transform(transactions['article_id'])\n",
    "\n",
    "    col = transactions['user_id'].values\n",
    "    row = transactions['item_id'].values\n",
    "    one = np.ones(transactions.shape[0])\n",
    "    coo = coo_matrix((one, (row, col)), shape=(len(ALL_ITEMS), len(ALL_USERS)))\n",
    "    csr = coo.tocsr()\n",
    "\n",
    "    model_knn = NearestNeighbors(metric = 'cosine', algorithm = 'brute')\n",
    "    model_knn.fit(csr)\n",
    "    index = leItem.transform([query_artcile])\n",
    "    distances, indices = K.kneighbors(csr[index,:].toarray().reshape(1,-1), n_neighbors = 6)\n",
    "    \n",
    "    article = []\n",
    "    distance = []\n",
    "\n",
    "    for i in range(0, len(distances.flatten())):\n",
    "        if i != 0:\n",
    "            article.append(leItem.inverse_transform([indices.flatten()[i]]))\n",
    "            distance.append(distances.flatten()[i]) \n",
    "           \n",
    "\n",
    "    m=pd.Series(article,name='article')\n",
    "    d=pd.Series(distance,name='distance')\n",
    "    recommend = pd.concat([m,d], axis=1)\n",
    "    recommend = recommend.sort_values('distance',ascending=False)\n",
    "\n",
    "    # for i in range(0,recommend.shape[0]):\n",
    "        # recom_list.append(recommend[\"article\"].iloc[i])\n",
    "        # recommend[\"article\"].iloc[i]\n",
    "    recom_list = [recommend[\"article\"].iloc[i] for i in range(0,recommend.shape[0])]\n",
    "\n",
    "    \n",
    "    return recom_list\n"
   ]
  },
  {
   "cell_type": "code",
   "execution_count": 87,
   "metadata": {},
   "outputs": [],
   "source": [
    "rk = recom_knn(541518023)"
   ]
  },
  {
   "cell_type": "code",
   "execution_count": 89,
   "metadata": {},
   "outputs": [
    {
     "name": "stdout",
     "output_type": "stream",
     "text": [
      "708346001\n",
      "572546008\n",
      "597173002\n",
      "318035015\n",
      "649311001\n"
     ]
    }
   ],
   "source": [
    "for i in rk:\n",
    "    print(i.item())"
   ]
  }
 ],
 "metadata": {
  "interpreter": {
   "hash": "d22062a349565d47932e26840da5411063d75b4bbbcc67467bb4b0a2b9470436"
  },
  "kernelspec": {
   "display_name": "Python 3.9.10 64-bit",
   "language": "python",
   "name": "python3"
  },
  "language_info": {
   "codemirror_mode": {
    "name": "ipython",
    "version": 3
   },
   "file_extension": ".py",
   "mimetype": "text/x-python",
   "name": "python",
   "nbconvert_exporter": "python",
   "pygments_lexer": "ipython3",
   "version": "3.9.10"
  },
  "orig_nbformat": 4
 },
 "nbformat": 4,
 "nbformat_minor": 2
}
