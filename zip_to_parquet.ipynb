{
 "cells": [
  {
   "cell_type": "code",
   "execution_count": 1,
   "metadata": {},
   "outputs": [],
   "source": [
    "import zipfile\n",
    "import re\n",
    "import pyarrow as pa\n",
    "import pyarrow.csv as pv\n",
    "import pyarrow.parquet as pq\n",
    "from pyarrow.fs import LocalFileSystem as pf"
   ]
  },
  {
   "cell_type": "code",
   "execution_count": 2,
   "metadata": {},
   "outputs": [],
   "source": [
    "def zip_list(zip_path):\n",
    "    zf = zipfile.ZipFile(zip_path, 'r')\n",
    "    return zf.namelist()"
   ]
  },
  {
   "cell_type": "code",
   "execution_count": 3,
   "metadata": {},
   "outputs": [],
   "source": [
    "def zip_to_parquet(zip_path,parquet_path):\n",
    "    # --> 創建資料夾\n",
    "    fs = pf()\n",
    "    fs.create_dir(parquet_path)\n",
    "    # --> 開啟zip內容\n",
    "    with zipfile.ZipFile(zip_path) as thezip:\n",
    "        # --> 用迴圈一一開啟zip中的檔案\n",
    "        for file in zip_list(zip_path):\n",
    "            with thezip.open(file, mode='r') as thefile:\n",
    "                # --> 輸出parquet\n",
    "                table = pv.read_csv(thefile)\n",
    "                filename = re.sub(\"\\.[a-z]*\",'',file) # 去除檔名中的\".csv\"\n",
    "                output_path = parquet_path+'/'+filename+\".parquet\"\n",
    "                pq.write_table(table, output_path)\n",
    "                print(\"完成輸出: \"+output_path)        "
   ]
  },
  {
   "cell_type": "code",
   "execution_count": 4,
   "metadata": {},
   "outputs": [
    {
     "name": "stdout",
     "output_type": "stream",
     "text": [
      "完成輸出: ./HM_parquet/articles.parquet\n",
      "完成輸出: ./HM_parquet/customers.parquet\n",
      "完成輸出: ./HM_parquet/sample_submission.parquet\n",
      "完成輸出: ./HM_parquet/transactions_train.parquet\n"
     ]
    }
   ],
   "source": [
    "# --> HM.zip檔案可以從雲端硬碟下載：\n",
    "# https://drive.google.com/file/d/1OlidGGTR6AKavknyLTkzxhzxEI7sXfnd/view?usp=sharing\n",
    "zip_path = \"data/HM.zip\"\n",
    "parquet_path = \"data/HM_parquet\"\n",
    "zip_to_parquet(zip_path,parquet_path)"
   ]
  },
  {
   "cell_type": "code",
   "execution_count": null,
   "metadata": {},
   "outputs": [],
   "source": []
  },
  {
   "cell_type": "code",
   "execution_count": null,
   "metadata": {},
   "outputs": [],
   "source": []
  }
 ],
 "metadata": {
  "interpreter": {
   "hash": "633a55d55f91fcdbdd44e93d1e6392a3229d5aa7ede19a77b9a81fd647cb9011"
  },
  "kernelspec": {
   "display_name": "Python 3.8.12 64-bit ('Python38': conda)",
   "language": "python",
   "name": "python3"
  },
  "language_info": {
   "codemirror_mode": {
    "name": "ipython",
    "version": 3
   },
   "file_extension": ".py",
   "mimetype": "text/x-python",
   "name": "python",
   "nbconvert_exporter": "python",
   "pygments_lexer": "ipython3",
   "version": "3.8.12"
  },
  "orig_nbformat": 4
 },
 "nbformat": 4,
 "nbformat_minor": 2
}
