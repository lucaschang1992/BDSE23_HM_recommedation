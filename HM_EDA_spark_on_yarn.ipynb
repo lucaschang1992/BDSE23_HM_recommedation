{
  "cells": [
    {
      "cell_type": "code",
      "execution_count": null,
      "metadata": {
        "colab": {
          "base_uri": "https://localhost:8080/"
        },
        "id": "2MM7L90_XCRM",
        "outputId": "e62152bf-da58-4d19-83de-fe3eabac225b"
      },
      "outputs": [
        {
          "name": "stderr",
          "output_type": "stream",
          "text": [
            "WARNING:root:'PYARROW_IGNORE_TIMEZONE' environment variable was not set. It is required to set this environment variable to '1' in both driver and executor sides if you use pyarrow>=2.0.0. pandas-on-Spark will set it for you but it does not work if there is a Spark context already launched.\n"
          ]
        }
      ],
      "source": [
        "import pandas as pd\n",
        "import numpy as np\n",
        "import pyspark.pandas as ps\n",
        "import matplotlib.pyplot as plt\n",
        "from pyspark.sql import SparkSession\n",
        "import time"
      ]
    },
    {
      "cell_type": "code",
      "execution_count": null,
      "metadata": {
        "colab": {
          "base_uri": "https://localhost:8080/",
          "height": 219
        },
        "id": "KoGfSzLkXM1V",
        "outputId": "f3e71c34-45f5-4d5b-8052-dc24bb26ffb0"
      },
      "outputs": [
        {
          "data": {
            "text/html": [
              "\n",
              "            <div>\n",
              "                <p><b>SparkSession - in-memory</b></p>\n",
              "                \n",
              "        <div>\n",
              "            <p><b>SparkContext</b></p>\n",
              "\n",
              "            <p><a href=\"http://6c4da767d4bc:4040\">Spark UI</a></p>\n",
              "\n",
              "            <dl>\n",
              "              <dt>Version</dt>\n",
              "                <dd><code>v3.2.1</code></dd>\n",
              "              <dt>Master</dt>\n",
              "                <dd><code>local[*]</code></dd>\n",
              "              <dt>AppName</dt>\n",
              "                <dd><code>wesad_using_spark</code></dd>\n",
              "            </dl>\n",
              "        </div>\n",
              "        \n",
              "            </div>\n",
              "        "
            ],
            "text/plain": [
              "<pyspark.sql.session.SparkSession at 0x7f09d055cf90>"
            ]
          },
          "execution_count": 5,
          "metadata": {},
          "output_type": "execute_result"
        }
      ],
      "source": [
        "spark"
      ]
    },
    {
      "cell_type": "code",
      "execution_count": null,
      "metadata": {
        "id": "XLs4UVjum8xz"
      },
      "outputs": [],
      "source": [
        "#config\n",
        "#spark.conf.set(\"spark.sql.execution.arrow.pyspark.enabled\", True)\n",
        "#ps.set_option(\"compute.default_index_type\", \"distributed\")"
      ]
    },
    {
      "cell_type": "markdown",
      "metadata": {
        "id": "KAXLD4EGWvr3"
      },
      "source": [
        "### customer data eda"
      ]
    },
    {
      "cell_type": "code",
      "execution_count": null,
      "metadata": {
        "id": "r6oCNdl9oRbI"
      },
      "outputs": [],
      "source": [
        "customers_pd = pd.read_csv('/content/h_m_dataset/customers.csv')"
      ]
    },
    {
      "cell_type": "code",
      "execution_count": null,
      "metadata": {
        "colab": {
          "base_uri": "https://localhost:8080/"
        },
        "id": "PnxDbSewG2dh",
        "outputId": "5f23037d-7308-4174-dccf-980a0fc48d9e"
      },
      "outputs": [
        {
          "name": "stdout",
          "output_type": "stream",
          "text": [
            "<class 'pandas.core.frame.DataFrame'>\n",
            "RangeIndex: 137198 entries, 0 to 137197\n",
            "Data columns (total 8 columns):\n",
            " #   Column                  Non-Null Count   Dtype  \n",
            "---  ------                  --------------   -----  \n",
            " 0   Unnamed: 0              137198 non-null  int64  \n",
            " 1   customer_id             137198 non-null  object \n",
            " 2   FN                      47980 non-null   object \n",
            " 3   Active                  46761 non-null   object \n",
            " 4   club_member_status      136591 non-null  object \n",
            " 5   fashion_news_frequency  135574 non-null  object \n",
            " 6   age                     135576 non-null  float64\n",
            " 7   postal_code             137198 non-null  object \n",
            "dtypes: float64(1), int64(1), object(6)\n",
            "memory usage: 8.4+ MB\n",
            "<class 'pandas.core.frame.DataFrame'>\n",
            "RangeIndex: 137198 entries, 0 to 137197\n",
            "Data columns (total 8 columns):\n",
            " #   Column                  Non-Null Count   Dtype  \n",
            "---  ------                  --------------   -----  \n",
            " 0   Unnamed: 0              137198 non-null  int64  \n",
            " 1   customer_id             137198 non-null  object \n",
            " 2   FN                      47980 non-null   object \n",
            " 3   Active                  46761 non-null   object \n",
            " 4   club_member_status      136591 non-null  object \n",
            " 5   fashion_news_frequency  135574 non-null  object \n",
            " 6   age                     135576 non-null  float64\n",
            " 7   postal_code             137198 non-null  object \n",
            "dtypes: float64(1), int64(1), object(6)\n",
            "memory usage: 8.4+ MB\n",
            "None\n",
            "   Unnamed: 0  ...                                        postal_code\n",
            "0     1081935  ...  896eb6e48e4074b81ad8b9a52c60b04a21cd013789e86a...\n",
            "1     1319489  ...  3920301d83b508a2aa7c230aa6a97a187c29e58afaefd0...\n",
            "2     1371393  ...  2a4858b7c4901fc93c457fccde1ce446090ead1e7dcb5f...\n",
            "3      536966  ...  97435281ed9c2071958178394b4da3da4407d70c9866fa...\n",
            "4      752013  ...  77b58c4df3df58df810c74016e259c0eca4cf2618bf0eb...\n",
            "\n",
            "[5 rows x 8 columns]\n",
            "         Unnamed: 0            age\n",
            "count  1.371980e+05  135576.000000\n",
            "mean   6.860971e+05      36.419683\n",
            "std    3.957791e+05      14.312465\n",
            "min    2.000000e+00      16.000000\n",
            "25%    3.434332e+05      24.000000\n",
            "50%    6.856540e+05      32.000000\n",
            "75%    1.030090e+06      49.000000\n",
            "max    1.371972e+06      99.000000\n"
          ]
        }
      ],
      "source": [
        "customers_pd['FN'] = customers_pd['FN'].astype(\"object\")\n",
        "customers_pd['Active'] = customers_pd['Active'].astype(\"object\")\n",
        "customers_pd.info()\n",
        "\n",
        "print(customers_pd.info())\n",
        "print(customers_pd.head(5))\n",
        "print(customers_pd.describe())\n",
        "\n",
        "customers_ps = ps.from_pandas(customers_pd)"
      ]
    },
    {
      "cell_type": "code",
      "execution_count": null,
      "metadata": {
        "colab": {
          "base_uri": "https://localhost:8080/"
        },
        "id": "ZQlq9geluw_1",
        "outputId": "b2899300-3e81-4660-eb9c-754ce4e7a343"
      },
      "outputs": [
        {
          "name": "stdout",
          "output_type": "stream",
          "text": [
            "Unnamed: 0                 0.000000\n",
            "customer_id                0.000000\n",
            "FN                        65.028645\n",
            "Active                    65.917142\n",
            "club_member_status         0.442426\n",
            "fashion_news_frequency     1.183691\n",
            "age                        1.182233\n",
            "postal_code                0.000000\n",
            "dtype: float64\n"
          ]
        }
      ],
      "source": [
        "# missing value test\n",
        "customers_colna_perc = customers_ps.isnull().sum()/len(customers_ps)*100\n",
        "print(customers_colna_perc)"
      ]
    },
    {
      "cell_type": "code",
      "execution_count": null,
      "metadata": {
        "id": "khLOkKujy1KQ"
      },
      "outputs": [],
      "source": [
        "# one-variable distribution(if object than value_counts(dropna=False),float64 or int32 than histogram)\n",
        "# 1.turn your column type to object or int(float)\n",
        "# 2.object -> value_counts\n",
        "# 3.int -> histogram\n",
        "def one_var_dist(df):\n",
        "  plot_dict = {}\n",
        "  for col in df.columns:\n",
        "    if ((df[col].dtypes in ['object']) & (len(df[col].unique()) < 25)): \n",
        "      plot_dict.update({col:df[col].value_counts(dropna=False)})\n",
        "    elif(df[col].dtypes in ['float64','int32']):\n",
        "      plot_dict.update({col:df[col].hist(bins=20)})       \n",
        "    else:\n",
        "      plot_dict.update({col:'this col has unique values:'+str(len(df[col].unique()))})\n",
        "  return plot_dict"
      ]
    },
    {
      "cell_type": "code",
      "execution_count": null,
      "metadata": {
        "colab": {
          "base_uri": "https://localhost:8080/",
          "height": 1000
        },
        "id": "9LjKHOYI3Z33",
        "outputId": "33ad7834-ce01-4e0e-995a-f519f1c82d71"
      },
      "outputs": [
        {
          "name": "stdout",
          "output_type": "stream",
          "text": [
            "Unnamed: 0\n",
            "this col has unique values:137198\n",
            "---------------------------------------------------------------\n",
            "customer_id\n",
            "this col has unique values:137198\n",
            "---------------------------------------------------------------\n",
            "FN\n",
            "NaN    89218\n",
            "1.0    47980\n",
            "Name: FN, dtype: int64\n",
            "---------------------------------------------------------------\n",
            "Active\n",
            "NaN    90437\n",
            "1.0    46761\n",
            "Name: Active, dtype: int64\n",
            "---------------------------------------------------------------\n",
            "club_member_status\n",
            "ACTIVE        127207\n",
            "PRE-CREATE      9342\n",
            "NaN              607\n",
            "LEFT CLUB         42\n",
            "Name: club_member_status, dtype: int64\n",
            "---------------------------------------------------------------\n",
            "fashion_news_frequency\n",
            "NONE         87427\n",
            "Regularly    48052\n",
            "NaN           1624\n",
            "Monthly         95\n",
            "Name: fashion_news_frequency, dtype: int64\n",
            "---------------------------------------------------------------\n",
            "age\n"
          ]
        },
        {
          "data": {
            "text/html": [
              "<html>\n",
              "<head><meta charset=\"utf-8\" /></head>\n",
              "<body>\n",
              "    <div>            <script src=\"https://cdnjs.cloudflare.com/ajax/libs/mathjax/2.7.5/MathJax.js?config=TeX-AMS-MML_SVG\"></script><script type=\"text/javascript\">if (window.MathJax) {MathJax.Hub.Config({SVG: {font: \"STIX-Web\"}});}</script>                <script type=\"text/javascript\">window.PlotlyConfig = {MathJaxConfig: 'local'};</script>\n",
              "        <script src=\"https://cdn.plot.ly/plotly-2.8.3.min.js\"></script>                <div id=\"b297906e-1264-479b-9737-e7fe994e64f0\" class=\"plotly-graph-div\" style=\"height:525px; width:100%;\"></div>            <script type=\"text/javascript\">                                    window.PLOTLYENV=window.PLOTLYENV || {};                                    if (document.getElementById(\"b297906e-1264-479b-9737-e7fe994e64f0\")) {                    Plotly.newPlot(                        \"b297906e-1264-479b-9737-e7fe994e64f0\",                        [{\"hovertemplate\":\"variable=age<br>value=%{text}<br>count=%{y}\",\"name\":\"age\",\"text\":[\"[16.0, 20.15)\",\"[20.15, 24.3)\",\"[24.3, 28.45)\",\"[28.45, 32.6)\",\"[32.6, 36.75)\",\"[36.75, 40.9)\",\"[40.9, 45.05)\",\"[45.05, 49.2)\",\"[49.2, 53.35)\",\"[53.35, 57.5)\",\"[57.5, 61.65)\",\"[61.65, 65.8)\",\"[65.8, 69.95)\",\"[69.95, 74.1)\",\"[74.1, 78.25)\",\"[78.25, 82.4)\",\"[82.4, 86.55)\",\"[86.55, 90.7)\",\"[90.7, 94.85)\",\"[94.85, 99.0]\"],\"x\":[18.075,22.225,26.375,30.525000000000002,34.675,38.825,42.97500000000001,47.125,51.275000000000006,55.425,59.575,63.72500000000001,67.875,72.025,76.17500000000001,80.325,84.47500000000001,88.625,92.775,96.92500000000001],\"y\":[12596,23073,20143,14326,8396,6318,8901,9931,11233,8573,5250,3068,1836,1347,393,130,37,18,5,2],\"type\":\"bar\"}],                        {\"barmode\":\"stack\",\"template\":{\"data\":{\"bar\":[{\"error_x\":{\"color\":\"#2a3f5f\"},\"error_y\":{\"color\":\"#2a3f5f\"},\"marker\":{\"line\":{\"color\":\"#E5ECF6\",\"width\":0.5},\"pattern\":{\"fillmode\":\"overlay\",\"size\":10,\"solidity\":0.2}},\"type\":\"bar\"}],\"barpolar\":[{\"marker\":{\"line\":{\"color\":\"#E5ECF6\",\"width\":0.5},\"pattern\":{\"fillmode\":\"overlay\",\"size\":10,\"solidity\":0.2}},\"type\":\"barpolar\"}],\"carpet\":[{\"aaxis\":{\"endlinecolor\":\"#2a3f5f\",\"gridcolor\":\"white\",\"linecolor\":\"white\",\"minorgridcolor\":\"white\",\"startlinecolor\":\"#2a3f5f\"},\"baxis\":{\"endlinecolor\":\"#2a3f5f\",\"gridcolor\":\"white\",\"linecolor\":\"white\",\"minorgridcolor\":\"white\",\"startlinecolor\":\"#2a3f5f\"},\"type\":\"carpet\"}],\"choropleth\":[{\"colorbar\":{\"outlinewidth\":0,\"ticks\":\"\"},\"type\":\"choropleth\"}],\"contour\":[{\"colorbar\":{\"outlinewidth\":0,\"ticks\":\"\"},\"colorscale\":[[0.0,\"#0d0887\"],[0.1111111111111111,\"#46039f\"],[0.2222222222222222,\"#7201a8\"],[0.3333333333333333,\"#9c179e\"],[0.4444444444444444,\"#bd3786\"],[0.5555555555555556,\"#d8576b\"],[0.6666666666666666,\"#ed7953\"],[0.7777777777777778,\"#fb9f3a\"],[0.8888888888888888,\"#fdca26\"],[1.0,\"#f0f921\"]],\"type\":\"contour\"}],\"contourcarpet\":[{\"colorbar\":{\"outlinewidth\":0,\"ticks\":\"\"},\"type\":\"contourcarpet\"}],\"heatmap\":[{\"colorbar\":{\"outlinewidth\":0,\"ticks\":\"\"},\"colorscale\":[[0.0,\"#0d0887\"],[0.1111111111111111,\"#46039f\"],[0.2222222222222222,\"#7201a8\"],[0.3333333333333333,\"#9c179e\"],[0.4444444444444444,\"#bd3786\"],[0.5555555555555556,\"#d8576b\"],[0.6666666666666666,\"#ed7953\"],[0.7777777777777778,\"#fb9f3a\"],[0.8888888888888888,\"#fdca26\"],[1.0,\"#f0f921\"]],\"type\":\"heatmap\"}],\"heatmapgl\":[{\"colorbar\":{\"outlinewidth\":0,\"ticks\":\"\"},\"colorscale\":[[0.0,\"#0d0887\"],[0.1111111111111111,\"#46039f\"],[0.2222222222222222,\"#7201a8\"],[0.3333333333333333,\"#9c179e\"],[0.4444444444444444,\"#bd3786\"],[0.5555555555555556,\"#d8576b\"],[0.6666666666666666,\"#ed7953\"],[0.7777777777777778,\"#fb9f3a\"],[0.8888888888888888,\"#fdca26\"],[1.0,\"#f0f921\"]],\"type\":\"heatmapgl\"}],\"histogram\":[{\"marker\":{\"pattern\":{\"fillmode\":\"overlay\",\"size\":10,\"solidity\":0.2}},\"type\":\"histogram\"}],\"histogram2d\":[{\"colorbar\":{\"outlinewidth\":0,\"ticks\":\"\"},\"colorscale\":[[0.0,\"#0d0887\"],[0.1111111111111111,\"#46039f\"],[0.2222222222222222,\"#7201a8\"],[0.3333333333333333,\"#9c179e\"],[0.4444444444444444,\"#bd3786\"],[0.5555555555555556,\"#d8576b\"],[0.6666666666666666,\"#ed7953\"],[0.7777777777777778,\"#fb9f3a\"],[0.8888888888888888,\"#fdca26\"],[1.0,\"#f0f921\"]],\"type\":\"histogram2d\"}],\"histogram2dcontour\":[{\"colorbar\":{\"outlinewidth\":0,\"ticks\":\"\"},\"colorscale\":[[0.0,\"#0d0887\"],[0.1111111111111111,\"#46039f\"],[0.2222222222222222,\"#7201a8\"],[0.3333333333333333,\"#9c179e\"],[0.4444444444444444,\"#bd3786\"],[0.5555555555555556,\"#d8576b\"],[0.6666666666666666,\"#ed7953\"],[0.7777777777777778,\"#fb9f3a\"],[0.8888888888888888,\"#fdca26\"],[1.0,\"#f0f921\"]],\"type\":\"histogram2dcontour\"}],\"mesh3d\":[{\"colorbar\":{\"outlinewidth\":0,\"ticks\":\"\"},\"type\":\"mesh3d\"}],\"parcoords\":[{\"line\":{\"colorbar\":{\"outlinewidth\":0,\"ticks\":\"\"}},\"type\":\"parcoords\"}],\"pie\":[{\"automargin\":true,\"type\":\"pie\"}],\"scatter\":[{\"marker\":{\"colorbar\":{\"outlinewidth\":0,\"ticks\":\"\"}},\"type\":\"scatter\"}],\"scatter3d\":[{\"line\":{\"colorbar\":{\"outlinewidth\":0,\"ticks\":\"\"}},\"marker\":{\"colorbar\":{\"outlinewidth\":0,\"ticks\":\"\"}},\"type\":\"scatter3d\"}],\"scattercarpet\":[{\"marker\":{\"colorbar\":{\"outlinewidth\":0,\"ticks\":\"\"}},\"type\":\"scattercarpet\"}],\"scattergeo\":[{\"marker\":{\"colorbar\":{\"outlinewidth\":0,\"ticks\":\"\"}},\"type\":\"scattergeo\"}],\"scattergl\":[{\"marker\":{\"colorbar\":{\"outlinewidth\":0,\"ticks\":\"\"}},\"type\":\"scattergl\"}],\"scattermapbox\":[{\"marker\":{\"colorbar\":{\"outlinewidth\":0,\"ticks\":\"\"}},\"type\":\"scattermapbox\"}],\"scatterpolar\":[{\"marker\":{\"colorbar\":{\"outlinewidth\":0,\"ticks\":\"\"}},\"type\":\"scatterpolar\"}],\"scatterpolargl\":[{\"marker\":{\"colorbar\":{\"outlinewidth\":0,\"ticks\":\"\"}},\"type\":\"scatterpolargl\"}],\"scatterternary\":[{\"marker\":{\"colorbar\":{\"outlinewidth\":0,\"ticks\":\"\"}},\"type\":\"scatterternary\"}],\"surface\":[{\"colorbar\":{\"outlinewidth\":0,\"ticks\":\"\"},\"colorscale\":[[0.0,\"#0d0887\"],[0.1111111111111111,\"#46039f\"],[0.2222222222222222,\"#7201a8\"],[0.3333333333333333,\"#9c179e\"],[0.4444444444444444,\"#bd3786\"],[0.5555555555555556,\"#d8576b\"],[0.6666666666666666,\"#ed7953\"],[0.7777777777777778,\"#fb9f3a\"],[0.8888888888888888,\"#fdca26\"],[1.0,\"#f0f921\"]],\"type\":\"surface\"}],\"table\":[{\"cells\":{\"fill\":{\"color\":\"#EBF0F8\"},\"line\":{\"color\":\"white\"}},\"header\":{\"fill\":{\"color\":\"#C8D4E3\"},\"line\":{\"color\":\"white\"}},\"type\":\"table\"}]},\"layout\":{\"annotationdefaults\":{\"arrowcolor\":\"#2a3f5f\",\"arrowhead\":0,\"arrowwidth\":1},\"autotypenumbers\":\"strict\",\"coloraxis\":{\"colorbar\":{\"outlinewidth\":0,\"ticks\":\"\"}},\"colorscale\":{\"diverging\":[[0,\"#8e0152\"],[0.1,\"#c51b7d\"],[0.2,\"#de77ae\"],[0.3,\"#f1b6da\"],[0.4,\"#fde0ef\"],[0.5,\"#f7f7f7\"],[0.6,\"#e6f5d0\"],[0.7,\"#b8e186\"],[0.8,\"#7fbc41\"],[0.9,\"#4d9221\"],[1,\"#276419\"]],\"sequential\":[[0.0,\"#0d0887\"],[0.1111111111111111,\"#46039f\"],[0.2222222222222222,\"#7201a8\"],[0.3333333333333333,\"#9c179e\"],[0.4444444444444444,\"#bd3786\"],[0.5555555555555556,\"#d8576b\"],[0.6666666666666666,\"#ed7953\"],[0.7777777777777778,\"#fb9f3a\"],[0.8888888888888888,\"#fdca26\"],[1.0,\"#f0f921\"]],\"sequentialminus\":[[0.0,\"#0d0887\"],[0.1111111111111111,\"#46039f\"],[0.2222222222222222,\"#7201a8\"],[0.3333333333333333,\"#9c179e\"],[0.4444444444444444,\"#bd3786\"],[0.5555555555555556,\"#d8576b\"],[0.6666666666666666,\"#ed7953\"],[0.7777777777777778,\"#fb9f3a\"],[0.8888888888888888,\"#fdca26\"],[1.0,\"#f0f921\"]]},\"colorway\":[\"#636efa\",\"#EF553B\",\"#00cc96\",\"#ab63fa\",\"#FFA15A\",\"#19d3f3\",\"#FF6692\",\"#B6E880\",\"#FF97FF\",\"#FECB52\"],\"font\":{\"color\":\"#2a3f5f\"},\"geo\":{\"bgcolor\":\"white\",\"lakecolor\":\"white\",\"landcolor\":\"#E5ECF6\",\"showlakes\":true,\"showland\":true,\"subunitcolor\":\"white\"},\"hoverlabel\":{\"align\":\"left\"},\"hovermode\":\"closest\",\"mapbox\":{\"style\":\"light\"},\"paper_bgcolor\":\"white\",\"plot_bgcolor\":\"#E5ECF6\",\"polar\":{\"angularaxis\":{\"gridcolor\":\"white\",\"linecolor\":\"white\",\"ticks\":\"\"},\"bgcolor\":\"#E5ECF6\",\"radialaxis\":{\"gridcolor\":\"white\",\"linecolor\":\"white\",\"ticks\":\"\"}},\"scene\":{\"xaxis\":{\"backgroundcolor\":\"#E5ECF6\",\"gridcolor\":\"white\",\"gridwidth\":2,\"linecolor\":\"white\",\"showbackground\":true,\"ticks\":\"\",\"zerolinecolor\":\"white\"},\"yaxis\":{\"backgroundcolor\":\"#E5ECF6\",\"gridcolor\":\"white\",\"gridwidth\":2,\"linecolor\":\"white\",\"showbackground\":true,\"ticks\":\"\",\"zerolinecolor\":\"white\"},\"zaxis\":{\"backgroundcolor\":\"#E5ECF6\",\"gridcolor\":\"white\",\"gridwidth\":2,\"linecolor\":\"white\",\"showbackground\":true,\"ticks\":\"\",\"zerolinecolor\":\"white\"}},\"shapedefaults\":{\"line\":{\"color\":\"#2a3f5f\"}},\"ternary\":{\"aaxis\":{\"gridcolor\":\"white\",\"linecolor\":\"white\",\"ticks\":\"\"},\"baxis\":{\"gridcolor\":\"white\",\"linecolor\":\"white\",\"ticks\":\"\"},\"bgcolor\":\"#E5ECF6\",\"caxis\":{\"gridcolor\":\"white\",\"linecolor\":\"white\",\"ticks\":\"\"}},\"title\":{\"x\":0.05},\"xaxis\":{\"automargin\":true,\"gridcolor\":\"white\",\"linecolor\":\"white\",\"ticks\":\"\",\"title\":{\"standoff\":15},\"zerolinecolor\":\"white\",\"zerolinewidth\":2},\"yaxis\":{\"automargin\":true,\"gridcolor\":\"white\",\"linecolor\":\"white\",\"ticks\":\"\",\"title\":{\"standoff\":15},\"zerolinecolor\":\"white\",\"zerolinewidth\":2}}},\"xaxis\":{\"title\":{\"text\":\"value\"}},\"yaxis\":{\"title\":{\"text\":\"count\"}}},                        {\"responsive\": true}                    ).then(function(){\n",
              "                            \n",
              "var gd = document.getElementById('b297906e-1264-479b-9737-e7fe994e64f0');\n",
              "var x = new MutationObserver(function (mutations, observer) {{\n",
              "        var display = window.getComputedStyle(gd).display;\n",
              "        if (!display || display === 'none') {{\n",
              "            console.log([gd, 'removed!']);\n",
              "            Plotly.purge(gd);\n",
              "            observer.disconnect();\n",
              "        }}\n",
              "}});\n",
              "\n",
              "// Listen for the removal of the full notebook cells\n",
              "var notebookContainer = gd.closest('#notebook-container');\n",
              "if (notebookContainer) {{\n",
              "    x.observe(notebookContainer, {childList: true});\n",
              "}}\n",
              "\n",
              "// Listen for the clearing of the current output cell\n",
              "var outputEl = gd.closest('.output');\n",
              "if (outputEl) {{\n",
              "    x.observe(outputEl, {childList: true});\n",
              "}}\n",
              "\n",
              "                        })                };                            </script>        </div>\n",
              "</body>\n",
              "</html>"
            ]
          },
          "metadata": {},
          "output_type": "display_data"
        },
        {
          "name": "stdout",
          "output_type": "stream",
          "text": [
            "---------------------------------------------------------------\n",
            "postal_code\n",
            "this col has unique values:99517\n",
            "---------------------------------------------------------------\n"
          ]
        }
      ],
      "source": [
        "plot_dict_customers = one_var_dist(customers_ps)\n",
        "for key,value in plot_dict_customers.items():\n",
        "  if str(type(value)) in ['<class \\'plotly.graph_objs._figure.Figure\\'>']:\n",
        "      print(key)\n",
        "      plot_dict_customers[key].show()\n",
        "  else:\n",
        "    print(key)\n",
        "    print(value)\n",
        "  print('---------------------------------------------------------------')"
      ]
    },
    {
      "cell_type": "markdown",
      "metadata": {
        "id": "WwXwXzykWz7k"
      },
      "source": [
        "### article data eda"
      ]
    },
    {
      "cell_type": "code",
      "execution_count": null,
      "metadata": {
        "id": "_P4YOdYCrA42"
      },
      "outputs": [],
      "source": [
        "articles_pd = pd.read_csv('/content/h_m_dataset/articles.csv')"
      ]
    },
    {
      "cell_type": "code",
      "execution_count": null,
      "metadata": {
        "colab": {
          "base_uri": "https://localhost:8080/"
        },
        "id": "WlIXlYxUZlhm",
        "outputId": "00959109-7a3a-4ea1-8af3-e7f9095ded61"
      },
      "outputs": [
        {
          "name": "stdout",
          "output_type": "stream",
          "text": [
            "<class 'pandas.core.frame.DataFrame'>\n",
            "RangeIndex: 10554 entries, 0 to 10553\n",
            "Data columns (total 26 columns):\n",
            " #   Column                        Non-Null Count  Dtype \n",
            "---  ------                        --------------  ----- \n",
            " 0   Unnamed: 0                    10554 non-null  int64 \n",
            " 1   article_id                    10554 non-null  object\n",
            " 2   product_code                  10554 non-null  object\n",
            " 3   prod_name                     10554 non-null  object\n",
            " 4   product_type_no               10554 non-null  object\n",
            " 5   product_type_name             10554 non-null  object\n",
            " 6   product_group_name            10554 non-null  object\n",
            " 7   graphical_appearance_no       10554 non-null  object\n",
            " 8   graphical_appearance_name     10554 non-null  object\n",
            " 9   colour_group_code             10554 non-null  object\n",
            " 10  colour_group_name             10554 non-null  object\n",
            " 11  perceived_colour_value_id     10554 non-null  object\n",
            " 12  perceived_colour_value_name   10554 non-null  object\n",
            " 13  perceived_colour_master_id    10554 non-null  object\n",
            " 14  perceived_colour_master_name  10554 non-null  object\n",
            " 15  department_no                 10554 non-null  object\n",
            " 16  department_name               10554 non-null  object\n",
            " 17  index_code                    10554 non-null  object\n",
            " 18  index_name                    10554 non-null  object\n",
            " 19  index_group_no                10554 non-null  object\n",
            " 20  index_group_name              10554 non-null  object\n",
            " 21  section_no                    10554 non-null  object\n",
            " 22  section_name                  10554 non-null  object\n",
            " 23  garment_group_no              10554 non-null  object\n",
            " 24  garment_group_name            10554 non-null  object\n",
            " 25  detail_desc                   10508 non-null  object\n",
            "dtypes: int64(1), object(25)\n",
            "memory usage: 2.1+ MB\n",
            "<class 'pandas.core.frame.DataFrame'>\n",
            "RangeIndex: 10554 entries, 0 to 10553\n",
            "Data columns (total 26 columns):\n",
            " #   Column                        Non-Null Count  Dtype \n",
            "---  ------                        --------------  ----- \n",
            " 0   Unnamed: 0                    10554 non-null  int64 \n",
            " 1   article_id                    10554 non-null  object\n",
            " 2   product_code                  10554 non-null  object\n",
            " 3   prod_name                     10554 non-null  object\n",
            " 4   product_type_no               10554 non-null  object\n",
            " 5   product_type_name             10554 non-null  object\n",
            " 6   product_group_name            10554 non-null  object\n",
            " 7   graphical_appearance_no       10554 non-null  object\n",
            " 8   graphical_appearance_name     10554 non-null  object\n",
            " 9   colour_group_code             10554 non-null  object\n",
            " 10  colour_group_name             10554 non-null  object\n",
            " 11  perceived_colour_value_id     10554 non-null  object\n",
            " 12  perceived_colour_value_name   10554 non-null  object\n",
            " 13  perceived_colour_master_id    10554 non-null  object\n",
            " 14  perceived_colour_master_name  10554 non-null  object\n",
            " 15  department_no                 10554 non-null  object\n",
            " 16  department_name               10554 non-null  object\n",
            " 17  index_code                    10554 non-null  object\n",
            " 18  index_name                    10554 non-null  object\n",
            " 19  index_group_no                10554 non-null  object\n",
            " 20  index_group_name              10554 non-null  object\n",
            " 21  section_no                    10554 non-null  object\n",
            " 22  section_name                  10554 non-null  object\n",
            " 23  garment_group_no              10554 non-null  object\n",
            " 24  garment_group_name            10554 non-null  object\n",
            " 25  detail_desc                   10508 non-null  object\n",
            "dtypes: int64(1), object(25)\n",
            "memory usage: 2.1+ MB\n",
            "None\n",
            "   Unnamed: 0  ...                                        detail_desc\n",
            "0       57558  ...  Dress in a sturdy weave with a sheen. Slightly...\n",
            "1       16445  ...  V-neck T-shirt in organic cotton jersey. Regul...\n",
            "2       92101  ...  Short dress in soft cotton jersey with long sl...\n",
            "3       61255  ...  Wide coat in a felted weave with notch lapels ...\n",
            "4       84721  ...  Sports trousers in a rustle weave made from re...\n",
            "\n",
            "[5 rows x 26 columns]\n",
            "          Unnamed: 0\n",
            "count   10554.000000\n",
            "mean    52690.499810\n",
            "std     30385.899777\n",
            "min         2.000000\n",
            "25%     26830.250000\n",
            "50%     52205.000000\n",
            "75%     79302.000000\n",
            "max    105536.000000\n"
          ]
        }
      ],
      "source": [
        "articles_pd['article_id'] = articles_pd['article_id'].astype(\"object\")\n",
        "articles_pd['product_code'] = articles_pd['product_code'].astype(\"object\")\n",
        "articles_pd['product_type_no'] = articles_pd['product_type_no'].astype(\"object\")\n",
        "articles_pd['graphical_appearance_no'] = articles_pd['graphical_appearance_no'].astype(\"object\")\n",
        "articles_pd['colour_group_code'] = articles_pd['colour_group_code'].astype(\"object\")\n",
        "articles_pd['perceived_colour_value_id'] = articles_pd['perceived_colour_value_id'].astype(\"object\")\n",
        "articles_pd['perceived_colour_master_id'] = articles_pd['perceived_colour_master_id'].astype(\"object\")\n",
        "articles_pd['department_no'] = articles_pd['department_no'].astype(\"object\")\n",
        "articles_pd['index_group_no'] = articles_pd['index_group_no'].astype(\"object\")\n",
        "articles_pd['section_no'] = articles_pd['section_no'].astype(\"object\")\n",
        "articles_pd['garment_group_no'] = articles_pd['garment_group_no'].astype(\"object\")\n",
        "articles_pd.info()\n",
        "\n",
        "print(articles_pd.info())\n",
        "print(articles_pd.head(5))\n",
        "print(articles_pd.describe())\n",
        "\n",
        "articles_ps = ps.from_pandas(articles_pd)"
      ]
    },
    {
      "cell_type": "code",
      "execution_count": null,
      "metadata": {
        "colab": {
          "base_uri": "https://localhost:8080/"
        },
        "id": "-ecqujqY9bpp",
        "outputId": "e8c23558-9351-49a5-8eb4-f05dbd3a2b5d"
      },
      "outputs": [
        {
          "name": "stdout",
          "output_type": "stream",
          "text": [
            "Unnamed: 0                      0.000000\n",
            "article_id                      0.000000\n",
            "product_code                    0.000000\n",
            "prod_name                       0.000000\n",
            "product_type_no                 0.000000\n",
            "product_type_name               0.000000\n",
            "product_group_name              0.000000\n",
            "graphical_appearance_no         0.000000\n",
            "graphical_appearance_name       0.000000\n",
            "colour_group_code               0.000000\n",
            "colour_group_name               0.000000\n",
            "perceived_colour_value_id       0.000000\n",
            "perceived_colour_value_name     0.000000\n",
            "perceived_colour_master_id      0.000000\n",
            "perceived_colour_master_name    0.000000\n",
            "department_no                   0.000000\n",
            "department_name                 0.000000\n",
            "index_code                      0.000000\n",
            "index_name                      0.000000\n",
            "index_group_no                  0.000000\n",
            "index_group_name                0.000000\n",
            "section_no                      0.000000\n",
            "section_name                    0.000000\n",
            "garment_group_no                0.000000\n",
            "garment_group_name              0.000000\n",
            "detail_desc                     0.435854\n",
            "dtype: float64\n"
          ]
        }
      ],
      "source": [
        "# missing value test\n",
        "articles_colna_perc = articles_ps.isnull().sum()/len(articles_ps)*100\n",
        "print(articles_colna_perc)"
      ]
    },
    {
      "cell_type": "code",
      "execution_count": null,
      "metadata": {
        "colab": {
          "base_uri": "https://localhost:8080/"
        },
        "id": "xIlgWve_7-VD",
        "outputId": "153ba036-5549-4029-ebf0-9cb483f59d54"
      },
      "outputs": [
        {
          "name": "stdout",
          "output_type": "stream",
          "text": [
            "Unnamed: 0\n",
            "this col has unique values:10554\n",
            "---------------------------------------------------------------\n",
            "article_id\n",
            "this col has unique values:10554\n",
            "---------------------------------------------------------------\n",
            "product_code\n",
            "this col has unique values:8994\n",
            "---------------------------------------------------------------\n",
            "prod_name\n",
            "this col has unique values:8943\n",
            "---------------------------------------------------------------\n",
            "product_type_no\n",
            "this col has unique values:101\n",
            "---------------------------------------------------------------\n",
            "product_type_name\n",
            "this col has unique values:101\n",
            "---------------------------------------------------------------\n",
            "product_group_name\n",
            "Garment Upper body     4237\n",
            "Garment Lower body     1961\n",
            "Garment Full body      1336\n",
            "Accessories            1178\n",
            "Shoes                   561\n",
            "Underwear               521\n",
            "Swimwear                317\n",
            "Socks & Tights          213\n",
            "Nightwear               195\n",
            "Unknown                  17\n",
            "Bags                      6\n",
            "Cosmetic                  4\n",
            "Items                     3\n",
            "Furniture                 3\n",
            "Fun                       1\n",
            "Underwear/nightwear       1\n",
            "Name: product_group_name, dtype: int64\n",
            "---------------------------------------------------------------\n",
            "graphical_appearance_no\n",
            "this col has unique values:29\n",
            "---------------------------------------------------------------\n",
            "graphical_appearance_name\n",
            "this col has unique values:29\n",
            "---------------------------------------------------------------\n",
            "colour_group_code\n",
            "this col has unique values:49\n",
            "---------------------------------------------------------------\n",
            "colour_group_name\n",
            "this col has unique values:49\n",
            "---------------------------------------------------------------\n",
            "perceived_colour_value_id\n",
            " 4    4358\n",
            " 1    2250\n",
            " 3    1513\n",
            " 2    1237\n",
            " 5     627\n",
            " 7     557\n",
            " 6       8\n",
            "-1       4\n",
            "Name: perceived_colour_value_id, dtype: int64\n",
            "---------------------------------------------------------------\n",
            "perceived_colour_value_name\n",
            "Dark            4358\n",
            "Dusty Light     2250\n",
            "Light           1513\n",
            "Medium Dusty    1237\n",
            "Bright           627\n",
            "Medium           557\n",
            "Undefined          8\n",
            "Unknown            4\n",
            "Name: perceived_colour_value_name, dtype: int64\n",
            "---------------------------------------------------------------\n",
            "perceived_colour_master_id\n",
            " 5     2293\n",
            " 2     1847\n",
            " 9     1231\n",
            " 4      954\n",
            " 12     897\n",
            " 11     564\n",
            " 18     547\n",
            " 19     349\n",
            " 8      313\n",
            " 20     298\n",
            " 3      283\n",
            " 13     224\n",
            " 15     214\n",
            " 7      192\n",
            " 1      146\n",
            " 6      115\n",
            "-1       78\n",
            " 14       8\n",
            " 10       1\n",
            "Name: perceived_colour_master_id, dtype: int64\n",
            "---------------------------------------------------------------\n",
            "perceived_colour_master_name\n",
            "Black              2293\n",
            "Blue               1847\n",
            "White              1231\n",
            "Pink                954\n",
            "Grey                897\n",
            "Beige               564\n",
            "Red                 547\n",
            "Green               349\n",
            "Yellow              313\n",
            "Khaki green         298\n",
            "Orange              283\n",
            "Brown               224\n",
            "Metal               214\n",
            "Turquoise           192\n",
            "Mole                146\n",
            "Lilac Purple        115\n",
            "Unknown              78\n",
            "undefined             8\n",
            "Yellowish Green       1\n",
            "Name: perceived_colour_master_name, dtype: int64\n",
            "---------------------------------------------------------------\n",
            "department_no\n",
            "this col has unique values:285\n",
            "---------------------------------------------------------------\n",
            "department_name\n",
            "this col has unique values:239\n",
            "---------------------------------------------------------------\n",
            "index_code\n",
            "A    2579\n",
            "D    1549\n",
            "F    1301\n",
            "H    1113\n",
            "I     921\n",
            "G     874\n",
            "C     695\n",
            "B     665\n",
            "J     501\n",
            "S     356\n",
            "Name: index_code, dtype: int64\n",
            "---------------------------------------------------------------\n",
            "index_name\n",
            "Ladieswear                        2579\n",
            "Divided                           1549\n",
            "Menswear                          1301\n",
            "Children Sizes 92-140             1113\n",
            "Children Sizes 134-170             921\n",
            "Baby Sizes 50-98                   874\n",
            "Ladies Accessories                 695\n",
            "Lingeries/Tights                   665\n",
            "Children Accessories, Swimwear     501\n",
            "Sport                              356\n",
            "Name: index_name, dtype: int64\n",
            "---------------------------------------------------------------\n",
            "index_group_no\n",
            "1     3939\n",
            "4     3409\n",
            "2     1549\n",
            "3     1301\n",
            "26     356\n",
            "Name: index_group_no, dtype: int64\n",
            "---------------------------------------------------------------\n",
            "index_group_name\n",
            "Ladieswear       3939\n",
            "Baby/Children    3409\n",
            "Divided          1549\n",
            "Menswear         1301\n",
            "Sport             356\n",
            "Name: index_group_name, dtype: int64\n",
            "---------------------------------------------------------------\n",
            "section_no\n",
            "this col has unique values:56\n",
            "---------------------------------------------------------------\n",
            "section_name\n",
            "this col has unique values:56\n",
            "---------------------------------------------------------------\n",
            "garment_group_no\n",
            "1005    2158\n",
            "1019    1189\n",
            "1002     785\n",
            "1003     724\n",
            "1017     718\n",
            "1009     651\n",
            "1010     596\n",
            "1020     542\n",
            "1013     508\n",
            "1007     452\n",
            "1001     401\n",
            "1016     313\n",
            "1018     286\n",
            "1021     211\n",
            "1011     207\n",
            "1006     194\n",
            "1025     153\n",
            "1014     145\n",
            "1012     124\n",
            "1023     106\n",
            "1008      91\n",
            "Name: garment_group_no, dtype: int64\n",
            "---------------------------------------------------------------\n",
            "garment_group_name\n",
            "Jersey Fancy                     2158\n",
            "Accessories                      1189\n",
            "Jersey Basic                      785\n",
            "Knitwear                          724\n",
            "Under-, Nightwear                 718\n",
            "Trousers                          651\n",
            "Blouses                           596\n",
            "Shoes                             542\n",
            "Dresses Ladies                    508\n",
            "Outdoor                           452\n",
            "Unknown                           401\n",
            "Trousers Denim                    313\n",
            "Swimwear                          286\n",
            "Socks and Tights                  211\n",
            "Shirts                            207\n",
            "Woven/Jersey/Knitted mix Baby     194\n",
            "Shorts                            153\n",
            "Dresses/Skirts girls              145\n",
            "Skirts                            124\n",
            "Special Offers                    106\n",
            "Dressed                            91\n",
            "Name: garment_group_name, dtype: int64\n",
            "---------------------------------------------------------------\n",
            "detail_desc\n",
            "this col has unique values:8573\n",
            "---------------------------------------------------------------\n"
          ]
        }
      ],
      "source": [
        "plot_dict_articles = one_var_dist(articles_ps)\n",
        "for key,value in plot_dict_articles.items():\n",
        "  if str(type(value)) in ['<class \\'plotly.graph_objs._figure.Figure\\'>']:\n",
        "      print(key)\n",
        "      plot_dict_articles[key].show()\n",
        "  else:\n",
        "    print(key)\n",
        "    print(value)\n",
        "  print('---------------------------------------------------------------')"
      ]
    },
    {
      "cell_type": "markdown",
      "metadata": {
        "id": "bVuf6L1oW9Ui"
      },
      "source": [
        "### transaction data eda"
      ]
    },
    {
      "cell_type": "code",
      "execution_count": null,
      "metadata": {
        "id": "L_UC7-tlrcUR"
      },
      "outputs": [],
      "source": [
        "transactions_pd = pd.read_csv('/content/h_m_dataset/transactions_train.csv')"
      ]
    },
    {
      "cell_type": "code",
      "execution_count": null,
      "metadata": {
        "colab": {
          "base_uri": "https://localhost:8080/"
        },
        "id": "nqshcNFTBWJA",
        "outputId": "b1d4e394-8578-4444-c5bc-368eddf5e76e"
      },
      "outputs": [
        {
          "name": "stdout",
          "output_type": "stream",
          "text": [
            "<class 'pandas.core.frame.DataFrame'>\n",
            "RangeIndex: 317883 entries, 0 to 317882\n",
            "Data columns (total 6 columns):\n",
            " #   Column            Non-Null Count   Dtype  \n",
            "---  ------            --------------   -----  \n",
            " 0   Unnamed: 0        317883 non-null  int64  \n",
            " 1   t_dat             317883 non-null  object \n",
            " 2   customer_id       317883 non-null  object \n",
            " 3   article_id        317883 non-null  object \n",
            " 4   price             317883 non-null  float64\n",
            " 5   sales_channel_id  317883 non-null  object \n",
            "dtypes: float64(1), int64(1), object(4)\n",
            "memory usage: 14.6+ MB\n",
            "<class 'pandas.core.frame.DataFrame'>\n",
            "RangeIndex: 317883 entries, 0 to 317882\n",
            "Data columns (total 6 columns):\n",
            " #   Column            Non-Null Count   Dtype  \n",
            "---  ------            --------------   -----  \n",
            " 0   Unnamed: 0        317883 non-null  int64  \n",
            " 1   t_dat             317883 non-null  object \n",
            " 2   customer_id       317883 non-null  object \n",
            " 3   article_id        317883 non-null  object \n",
            " 4   price             317883 non-null  float64\n",
            " 5   sales_channel_id  317883 non-null  object \n",
            "dtypes: float64(1), int64(1), object(4)\n",
            "memory usage: 14.6+ MB\n",
            "None\n",
            "   Unnamed: 0       t_dat  ...     price sales_channel_id\n",
            "0    25259351  2020-04-30  ...  0.010153                2\n",
            "1    22773880  2020-02-27  ...  0.010153                1\n",
            "2      490837  2018-09-29  ...  0.016254                1\n",
            "3    21786921  2020-01-29  ...  0.002695                1\n",
            "4    28356762  2020-06-30  ...  0.022017                2\n",
            "\n",
            "[5 rows x 6 columns]\n",
            "         Unnamed: 0          price\n",
            "count  3.178830e+05  317883.000000\n",
            "mean   1.587569e+07       0.027846\n",
            "std    9.172726e+06       0.019172\n",
            "min    1.600000e+01       0.000203\n",
            "25%    7.944050e+06       0.016000\n",
            "50%    1.586639e+07       0.025407\n",
            "75%    2.381363e+07       0.033881\n",
            "max    3.178827e+07       0.506780\n"
          ]
        }
      ],
      "source": [
        "# turn column type \n",
        "transactions_pd['article_id'] = transactions_pd['article_id'].astype(\"object\")\n",
        "transactions_pd['sales_channel_id'] = transactions_pd['sales_channel_id'].astype(\"object\")\n",
        "transactions_pd.info()\n",
        "\n",
        "print(transactions_pd.info())\n",
        "print(transactions_pd.head(5))\n",
        "print(transactions_pd.describe())"
      ]
    },
    {
      "cell_type": "code",
      "execution_count": null,
      "metadata": {
        "id": "M6mTEsOL1oqe"
      },
      "outputs": [],
      "source": [
        "transactions_ps = ps.from_pandas(transactions_pd)"
      ]
    },
    {
      "cell_type": "code",
      "execution_count": null,
      "metadata": {
        "colab": {
          "base_uri": "https://localhost:8080/"
        },
        "id": "OoOXpZgU9nYQ",
        "outputId": "a8b36449-16f4-40b9-a21f-7ef96900cb21"
      },
      "outputs": [
        {
          "name": "stdout",
          "output_type": "stream",
          "text": [
            "Unnamed: 0          0.0\n",
            "t_dat               0.0\n",
            "customer_id         0.0\n",
            "article_id          0.0\n",
            "price               0.0\n",
            "sales_channel_id    0.0\n",
            "dtype: float64\n"
          ]
        }
      ],
      "source": [
        "# missing value test\n",
        "transactions_colna_perc = transactions_ps.isnull().sum()/len(transactions_ps)*100\n",
        "print(transactions_colna_perc)"
      ]
    },
    {
      "cell_type": "code",
      "execution_count": null,
      "metadata": {
        "colab": {
          "base_uri": "https://localhost:8080/",
          "height": 872
        },
        "id": "WOJxoHd5r9Lz",
        "outputId": "785aa924-3ec6-43f0-c852-d48b33b4d968"
      },
      "outputs": [
        {
          "name": "stdout",
          "output_type": "stream",
          "text": [
            "Unnamed: 0\n",
            "this col has unique values:317883\n",
            "---------------------------------------------------------------\n",
            "t_dat\n",
            "this col has unique values:734\n",
            "---------------------------------------------------------------\n",
            "customer_id\n",
            "this col has unique values:230222\n",
            "---------------------------------------------------------------\n",
            "article_id\n",
            "this col has unique values:53890\n",
            "---------------------------------------------------------------\n",
            "price\n"
          ]
        },
        {
          "data": {
            "text/html": [
              "<html>\n",
              "<head><meta charset=\"utf-8\" /></head>\n",
              "<body>\n",
              "    <div>            <script src=\"https://cdnjs.cloudflare.com/ajax/libs/mathjax/2.7.5/MathJax.js?config=TeX-AMS-MML_SVG\"></script><script type=\"text/javascript\">if (window.MathJax) {MathJax.Hub.Config({SVG: {font: \"STIX-Web\"}});}</script>                <script type=\"text/javascript\">window.PlotlyConfig = {MathJaxConfig: 'local'};</script>\n",
              "        <script src=\"https://cdn.plot.ly/plotly-2.8.3.min.js\"></script>                <div id=\"fe535065-f3f5-4297-8ab5-7d1ffb89f4d4\" class=\"plotly-graph-div\" style=\"height:525px; width:100%;\"></div>            <script type=\"text/javascript\">                                    window.PLOTLYENV=window.PLOTLYENV || {};                                    if (document.getElementById(\"fe535065-f3f5-4297-8ab5-7d1ffb89f4d4\")) {                    Plotly.newPlot(                        \"fe535065-f3f5-4297-8ab5-7d1ffb89f4d4\",                        [{\"hovertemplate\":\"variable=price<br>value=%{text}<br>count=%{y}\",\"name\":\"price\",\"text\":[\"[0.00020339, 0.025532203)\",\"[0.025532203, 0.050861017)\",\"[0.050861017, 0.076189831)\",\"[0.076189831, 0.101518644)\",\"[0.101518644, 0.126847458)\",\"[0.126847458, 0.152176271)\",\"[0.152176271, 0.177505085)\",\"[0.177505085, 0.202833898)\",\"[0.202833898, 0.228162712)\",\"[0.228162712, 0.253491525)\",\"[0.253491525, 0.278820339)\",\"[0.278820339, 0.304149153)\",\"[0.304149153, 0.329477966)\",\"[0.329477966, 0.35480678)\",\"[0.35480678, 0.380135593)\",\"[0.380135593, 0.405464407)\",\"[0.405464407, 0.43079322)\",\"[0.43079322, 0.456122034)\",\"[0.456122034, 0.481450847)\",\"[0.481450847, 0.506779661]\"],\"x\":[0.01286779661016942,0.03819661016949146,0.0635254237288135,0.08885423728813553,0.11418305084745758,0.13951186440677962,0.16484067796610166,0.1901694915254237,0.21549830508474574,0.24082711864406775,0.2661559322033898,0.2914847457627118,0.31681355932203387,0.3421423728813559,0.36747118644067794,0.3928,0.418128813559322,0.44345762711864406,0.4687864406779661,0.49411525423728814],\"y\":[188110.0,107974.0,14563.0,4149.0,1960.0,479.0,423.0,36.0,73.0,62.0,3.0,23.0,2.0,12.0,1.0,0.0,11.0,0.0,0.0,2.0],\"type\":\"bar\"}],                        {\"barmode\":\"stack\",\"template\":{\"data\":{\"bar\":[{\"error_x\":{\"color\":\"#2a3f5f\"},\"error_y\":{\"color\":\"#2a3f5f\"},\"marker\":{\"line\":{\"color\":\"#E5ECF6\",\"width\":0.5},\"pattern\":{\"fillmode\":\"overlay\",\"size\":10,\"solidity\":0.2}},\"type\":\"bar\"}],\"barpolar\":[{\"marker\":{\"line\":{\"color\":\"#E5ECF6\",\"width\":0.5},\"pattern\":{\"fillmode\":\"overlay\",\"size\":10,\"solidity\":0.2}},\"type\":\"barpolar\"}],\"carpet\":[{\"aaxis\":{\"endlinecolor\":\"#2a3f5f\",\"gridcolor\":\"white\",\"linecolor\":\"white\",\"minorgridcolor\":\"white\",\"startlinecolor\":\"#2a3f5f\"},\"baxis\":{\"endlinecolor\":\"#2a3f5f\",\"gridcolor\":\"white\",\"linecolor\":\"white\",\"minorgridcolor\":\"white\",\"startlinecolor\":\"#2a3f5f\"},\"type\":\"carpet\"}],\"choropleth\":[{\"colorbar\":{\"outlinewidth\":0,\"ticks\":\"\"},\"type\":\"choropleth\"}],\"contour\":[{\"colorbar\":{\"outlinewidth\":0,\"ticks\":\"\"},\"colorscale\":[[0.0,\"#0d0887\"],[0.1111111111111111,\"#46039f\"],[0.2222222222222222,\"#7201a8\"],[0.3333333333333333,\"#9c179e\"],[0.4444444444444444,\"#bd3786\"],[0.5555555555555556,\"#d8576b\"],[0.6666666666666666,\"#ed7953\"],[0.7777777777777778,\"#fb9f3a\"],[0.8888888888888888,\"#fdca26\"],[1.0,\"#f0f921\"]],\"type\":\"contour\"}],\"contourcarpet\":[{\"colorbar\":{\"outlinewidth\":0,\"ticks\":\"\"},\"type\":\"contourcarpet\"}],\"heatmap\":[{\"colorbar\":{\"outlinewidth\":0,\"ticks\":\"\"},\"colorscale\":[[0.0,\"#0d0887\"],[0.1111111111111111,\"#46039f\"],[0.2222222222222222,\"#7201a8\"],[0.3333333333333333,\"#9c179e\"],[0.4444444444444444,\"#bd3786\"],[0.5555555555555556,\"#d8576b\"],[0.6666666666666666,\"#ed7953\"],[0.7777777777777778,\"#fb9f3a\"],[0.8888888888888888,\"#fdca26\"],[1.0,\"#f0f921\"]],\"type\":\"heatmap\"}],\"heatmapgl\":[{\"colorbar\":{\"outlinewidth\":0,\"ticks\":\"\"},\"colorscale\":[[0.0,\"#0d0887\"],[0.1111111111111111,\"#46039f\"],[0.2222222222222222,\"#7201a8\"],[0.3333333333333333,\"#9c179e\"],[0.4444444444444444,\"#bd3786\"],[0.5555555555555556,\"#d8576b\"],[0.6666666666666666,\"#ed7953\"],[0.7777777777777778,\"#fb9f3a\"],[0.8888888888888888,\"#fdca26\"],[1.0,\"#f0f921\"]],\"type\":\"heatmapgl\"}],\"histogram\":[{\"marker\":{\"pattern\":{\"fillmode\":\"overlay\",\"size\":10,\"solidity\":0.2}},\"type\":\"histogram\"}],\"histogram2d\":[{\"colorbar\":{\"outlinewidth\":0,\"ticks\":\"\"},\"colorscale\":[[0.0,\"#0d0887\"],[0.1111111111111111,\"#46039f\"],[0.2222222222222222,\"#7201a8\"],[0.3333333333333333,\"#9c179e\"],[0.4444444444444444,\"#bd3786\"],[0.5555555555555556,\"#d8576b\"],[0.6666666666666666,\"#ed7953\"],[0.7777777777777778,\"#fb9f3a\"],[0.8888888888888888,\"#fdca26\"],[1.0,\"#f0f921\"]],\"type\":\"histogram2d\"}],\"histogram2dcontour\":[{\"colorbar\":{\"outlinewidth\":0,\"ticks\":\"\"},\"colorscale\":[[0.0,\"#0d0887\"],[0.1111111111111111,\"#46039f\"],[0.2222222222222222,\"#7201a8\"],[0.3333333333333333,\"#9c179e\"],[0.4444444444444444,\"#bd3786\"],[0.5555555555555556,\"#d8576b\"],[0.6666666666666666,\"#ed7953\"],[0.7777777777777778,\"#fb9f3a\"],[0.8888888888888888,\"#fdca26\"],[1.0,\"#f0f921\"]],\"type\":\"histogram2dcontour\"}],\"mesh3d\":[{\"colorbar\":{\"outlinewidth\":0,\"ticks\":\"\"},\"type\":\"mesh3d\"}],\"parcoords\":[{\"line\":{\"colorbar\":{\"outlinewidth\":0,\"ticks\":\"\"}},\"type\":\"parcoords\"}],\"pie\":[{\"automargin\":true,\"type\":\"pie\"}],\"scatter\":[{\"marker\":{\"colorbar\":{\"outlinewidth\":0,\"ticks\":\"\"}},\"type\":\"scatter\"}],\"scatter3d\":[{\"line\":{\"colorbar\":{\"outlinewidth\":0,\"ticks\":\"\"}},\"marker\":{\"colorbar\":{\"outlinewidth\":0,\"ticks\":\"\"}},\"type\":\"scatter3d\"}],\"scattercarpet\":[{\"marker\":{\"colorbar\":{\"outlinewidth\":0,\"ticks\":\"\"}},\"type\":\"scattercarpet\"}],\"scattergeo\":[{\"marker\":{\"colorbar\":{\"outlinewidth\":0,\"ticks\":\"\"}},\"type\":\"scattergeo\"}],\"scattergl\":[{\"marker\":{\"colorbar\":{\"outlinewidth\":0,\"ticks\":\"\"}},\"type\":\"scattergl\"}],\"scattermapbox\":[{\"marker\":{\"colorbar\":{\"outlinewidth\":0,\"ticks\":\"\"}},\"type\":\"scattermapbox\"}],\"scatterpolar\":[{\"marker\":{\"colorbar\":{\"outlinewidth\":0,\"ticks\":\"\"}},\"type\":\"scatterpolar\"}],\"scatterpolargl\":[{\"marker\":{\"colorbar\":{\"outlinewidth\":0,\"ticks\":\"\"}},\"type\":\"scatterpolargl\"}],\"scatterternary\":[{\"marker\":{\"colorbar\":{\"outlinewidth\":0,\"ticks\":\"\"}},\"type\":\"scatterternary\"}],\"surface\":[{\"colorbar\":{\"outlinewidth\":0,\"ticks\":\"\"},\"colorscale\":[[0.0,\"#0d0887\"],[0.1111111111111111,\"#46039f\"],[0.2222222222222222,\"#7201a8\"],[0.3333333333333333,\"#9c179e\"],[0.4444444444444444,\"#bd3786\"],[0.5555555555555556,\"#d8576b\"],[0.6666666666666666,\"#ed7953\"],[0.7777777777777778,\"#fb9f3a\"],[0.8888888888888888,\"#fdca26\"],[1.0,\"#f0f921\"]],\"type\":\"surface\"}],\"table\":[{\"cells\":{\"fill\":{\"color\":\"#EBF0F8\"},\"line\":{\"color\":\"white\"}},\"header\":{\"fill\":{\"color\":\"#C8D4E3\"},\"line\":{\"color\":\"white\"}},\"type\":\"table\"}]},\"layout\":{\"annotationdefaults\":{\"arrowcolor\":\"#2a3f5f\",\"arrowhead\":0,\"arrowwidth\":1},\"autotypenumbers\":\"strict\",\"coloraxis\":{\"colorbar\":{\"outlinewidth\":0,\"ticks\":\"\"}},\"colorscale\":{\"diverging\":[[0,\"#8e0152\"],[0.1,\"#c51b7d\"],[0.2,\"#de77ae\"],[0.3,\"#f1b6da\"],[0.4,\"#fde0ef\"],[0.5,\"#f7f7f7\"],[0.6,\"#e6f5d0\"],[0.7,\"#b8e186\"],[0.8,\"#7fbc41\"],[0.9,\"#4d9221\"],[1,\"#276419\"]],\"sequential\":[[0.0,\"#0d0887\"],[0.1111111111111111,\"#46039f\"],[0.2222222222222222,\"#7201a8\"],[0.3333333333333333,\"#9c179e\"],[0.4444444444444444,\"#bd3786\"],[0.5555555555555556,\"#d8576b\"],[0.6666666666666666,\"#ed7953\"],[0.7777777777777778,\"#fb9f3a\"],[0.8888888888888888,\"#fdca26\"],[1.0,\"#f0f921\"]],\"sequentialminus\":[[0.0,\"#0d0887\"],[0.1111111111111111,\"#46039f\"],[0.2222222222222222,\"#7201a8\"],[0.3333333333333333,\"#9c179e\"],[0.4444444444444444,\"#bd3786\"],[0.5555555555555556,\"#d8576b\"],[0.6666666666666666,\"#ed7953\"],[0.7777777777777778,\"#fb9f3a\"],[0.8888888888888888,\"#fdca26\"],[1.0,\"#f0f921\"]]},\"colorway\":[\"#636efa\",\"#EF553B\",\"#00cc96\",\"#ab63fa\",\"#FFA15A\",\"#19d3f3\",\"#FF6692\",\"#B6E880\",\"#FF97FF\",\"#FECB52\"],\"font\":{\"color\":\"#2a3f5f\"},\"geo\":{\"bgcolor\":\"white\",\"lakecolor\":\"white\",\"landcolor\":\"#E5ECF6\",\"showlakes\":true,\"showland\":true,\"subunitcolor\":\"white\"},\"hoverlabel\":{\"align\":\"left\"},\"hovermode\":\"closest\",\"mapbox\":{\"style\":\"light\"},\"paper_bgcolor\":\"white\",\"plot_bgcolor\":\"#E5ECF6\",\"polar\":{\"angularaxis\":{\"gridcolor\":\"white\",\"linecolor\":\"white\",\"ticks\":\"\"},\"bgcolor\":\"#E5ECF6\",\"radialaxis\":{\"gridcolor\":\"white\",\"linecolor\":\"white\",\"ticks\":\"\"}},\"scene\":{\"xaxis\":{\"backgroundcolor\":\"#E5ECF6\",\"gridcolor\":\"white\",\"gridwidth\":2,\"linecolor\":\"white\",\"showbackground\":true,\"ticks\":\"\",\"zerolinecolor\":\"white\"},\"yaxis\":{\"backgroundcolor\":\"#E5ECF6\",\"gridcolor\":\"white\",\"gridwidth\":2,\"linecolor\":\"white\",\"showbackground\":true,\"ticks\":\"\",\"zerolinecolor\":\"white\"},\"zaxis\":{\"backgroundcolor\":\"#E5ECF6\",\"gridcolor\":\"white\",\"gridwidth\":2,\"linecolor\":\"white\",\"showbackground\":true,\"ticks\":\"\",\"zerolinecolor\":\"white\"}},\"shapedefaults\":{\"line\":{\"color\":\"#2a3f5f\"}},\"ternary\":{\"aaxis\":{\"gridcolor\":\"white\",\"linecolor\":\"white\",\"ticks\":\"\"},\"baxis\":{\"gridcolor\":\"white\",\"linecolor\":\"white\",\"ticks\":\"\"},\"bgcolor\":\"#E5ECF6\",\"caxis\":{\"gridcolor\":\"white\",\"linecolor\":\"white\",\"ticks\":\"\"}},\"title\":{\"x\":0.05},\"xaxis\":{\"automargin\":true,\"gridcolor\":\"white\",\"linecolor\":\"white\",\"ticks\":\"\",\"title\":{\"standoff\":15},\"zerolinecolor\":\"white\",\"zerolinewidth\":2},\"yaxis\":{\"automargin\":true,\"gridcolor\":\"white\",\"linecolor\":\"white\",\"ticks\":\"\",\"title\":{\"standoff\":15},\"zerolinecolor\":\"white\",\"zerolinewidth\":2}}},\"xaxis\":{\"title\":{\"text\":\"value\"}},\"yaxis\":{\"title\":{\"text\":\"count\"}}},                        {\"responsive\": true}                    ).then(function(){\n",
              "                            \n",
              "var gd = document.getElementById('fe535065-f3f5-4297-8ab5-7d1ffb89f4d4');\n",
              "var x = new MutationObserver(function (mutations, observer) {{\n",
              "        var display = window.getComputedStyle(gd).display;\n",
              "        if (!display || display === 'none') {{\n",
              "            console.log([gd, 'removed!']);\n",
              "            Plotly.purge(gd);\n",
              "            observer.disconnect();\n",
              "        }}\n",
              "}});\n",
              "\n",
              "// Listen for the removal of the full notebook cells\n",
              "var notebookContainer = gd.closest('#notebook-container');\n",
              "if (notebookContainer) {{\n",
              "    x.observe(notebookContainer, {childList: true});\n",
              "}}\n",
              "\n",
              "// Listen for the clearing of the current output cell\n",
              "var outputEl = gd.closest('.output');\n",
              "if (outputEl) {{\n",
              "    x.observe(outputEl, {childList: true});\n",
              "}}\n",
              "\n",
              "                        })                };                            </script>        </div>\n",
              "</body>\n",
              "</html>"
            ]
          },
          "metadata": {},
          "output_type": "display_data"
        },
        {
          "name": "stdout",
          "output_type": "stream",
          "text": [
            "---------------------------------------------------------------\n",
            "sales_channel_id\n",
            "2    223763\n",
            "1     94120\n",
            "Name: sales_channel_id, dtype: int64\n",
            "---------------------------------------------------------------\n"
          ]
        }
      ],
      "source": [
        "plot_dict_transactions = one_var_dist(transactions_ps)\n",
        "\n",
        "for key,value in plot_dict_transactions.items():\n",
        "  if str(type(value)) in ['<class \\'plotly.graph_objs._figure.Figure\\'>']:\n",
        "      print(key)\n",
        "      plot_dict_transactions[key].show()\n",
        "  else:\n",
        "    print(key)\n",
        "    print(value)\n",
        "  print('---------------------------------------------------------------')"
      ]
    },
    {
      "cell_type": "code",
      "execution_count": null,
      "metadata": {
        "colab": {
          "base_uri": "https://localhost:8080/",
          "height": 35
        },
        "id": "3mgJt1RHps9Y",
        "outputId": "beebc9a0-c5be-41d0-a21e-844c2973d91b"
      },
      "outputs": [
        {
          "data": {
            "application/vnd.google.colaboratory.intrinsic+json": {
              "type": "string"
            },
            "text/plain": [
              "''"
            ]
          },
          "execution_count": 4,
          "metadata": {},
          "output_type": "execute_result"
        }
      ],
      "source": []
    }
  ],
  "metadata": {
    "colab": {
      "collapsed_sections": [],
      "name": "HM_EDA",
      "provenance": [],
      "toc_visible": true
    },
    "kernelspec": {
      "display_name": "Python 3",
      "name": "python3"
    },
    "language_info": {
      "name": "python"
    }
  },
  "nbformat": 4,
  "nbformat_minor": 0
}
