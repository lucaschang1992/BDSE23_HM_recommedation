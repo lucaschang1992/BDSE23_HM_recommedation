{
 "cells": [
  {
   "cell_type": "code",
   "execution_count": 8,
   "metadata": {},
   "outputs": [
    {
     "name": "stdout",
     "output_type": "stream",
     "text": [
      "Strap top\n"
     ]
    }
   ],
   "source": [
    "import pymysql\n",
    "\n",
    "db_settings = {\n",
    "            \"host\": \"172.22.33.44\",\n",
    "            \"port\": 3306,\n",
    "            \"user\": \"root\", \n",
    "            \"password\": \"root\",\n",
    "            \"db\": \"HM\", \n",
    "            \"charset\": 'utf8'\n",
    "        }\n",
    "\n",
    "article_id = 108775015\n",
    "\n",
    "try:\n",
    "    # 建立Connection物件\n",
    "    conn = pymysql.connect(**db_settings)\n",
    "    # 建立Cursor物件\n",
    "    with conn.cursor() as cursor:\n",
    "    #資料表相關操作\n",
    "        command = f\"SELECT prod_name FROM articles WHERE article_id={article_id}\"\n",
    "        cursor.execute(command)\n",
    "        result = cursor.fetchone()\n",
    "        print(result[0])\n",
    "    \n",
    "except Exception as ex:\n",
    "    print(ex)"
   ]
  },
  {
   "cell_type": "code",
   "execution_count": 2,
   "metadata": {},
   "outputs": [
    {
     "name": "stdout",
     "output_type": "stream",
     "text": [
      "108775015\n",
      "Strap top\n",
      "108775044\n",
      "Strap top\n",
      "108775051\n",
      "Strap top (1)\n"
     ]
    }
   ],
   "source": [
    "from module.db import DatabaseConnection\n",
    "\n",
    "db = DatabaseConnection(\"172.22.33.44\", \"root\", \"root\", \"HM\")\n",
    "\n",
    "article_list = [108775015, 108775044, 108775051]\n",
    "\n",
    "dict_list=[]\n",
    "for id in article_list: \n",
    "    name =  db.read_article_name(id)\n",
    "    img = f\"static/img/0{id}.jpg\" \n",
    "\n",
    "    dic= {\"name\":name,\"img\":img,\"id\":id}\n",
    "    dict_list.append(dic)\n",
    "\n"
   ]
  },
  {
   "cell_type": "code",
   "execution_count": 3,
   "metadata": {},
   "outputs": [
    {
     "data": {
      "text/plain": [
       "[{'name': 'Strap top', 'img': 'static/img/0108775015.jpg', 'id': 108775015},\n",
       " {'name': 'Strap top', 'img': 'static/img/0108775044.jpg', 'id': 108775044},\n",
       " {'name': 'Strap top (1)',\n",
       "  'img': 'static/img/0108775051.jpg',\n",
       "  'id': 108775051}]"
      ]
     },
     "execution_count": 3,
     "metadata": {},
     "output_type": "execute_result"
    }
   ],
   "source": [
    "dict_list"
   ]
  },
  {
   "cell_type": "code",
   "execution_count": 4,
   "metadata": {},
   "outputs": [
    {
     "ename": "TypeError",
     "evalue": "'int' object is not subscriptable",
     "output_type": "error",
     "traceback": [
      "\u001b[1;31m---------------------------------------------------------------------------\u001b[0m",
      "\u001b[1;31mTypeError\u001b[0m                                 Traceback (most recent call last)",
      "\u001b[1;32mc:\\Shared\\Github\\BDSE23_HM_recommendation\\flask\\app\\test.ipynb Cell 4'\u001b[0m in \u001b[0;36m<cell line: 2>\u001b[1;34m()\u001b[0m\n\u001b[0;32m      <a href='vscode-notebook-cell:/c%3A/Shared/Github/BDSE23_HM_recommendation/flask/app/test.ipynb#ch0000002?line=0'>1</a>\u001b[0m \u001b[39mid\u001b[39m \u001b[39m=\u001b[39m \u001b[39m108775015\u001b[39m\n\u001b[1;32m----> <a href='vscode-notebook-cell:/c%3A/Shared/Github/BDSE23_HM_recommendation/flask/app/test.ipynb#ch0000002?line=1'>2</a>\u001b[0m \u001b[39mid\u001b[39;49m[\u001b[39m1\u001b[39;49m:\u001b[39m3\u001b[39;49m]\n",
      "\u001b[1;31mTypeError\u001b[0m: 'int' object is not subscriptable"
     ]
    }
   ],
   "source": [
    "id = 108775015\n",
    "id"
   ]
  },
  {
   "cell_type": "code",
   "execution_count": 1,
   "metadata": {},
   "outputs": [
    {
     "name": "stdout",
     "output_type": "stream",
     "text": [
      "KNN recommend:  [565379001]\n",
      "KNN recommend:  [688463003]\n",
      "KNN recommend:  [664074001]\n",
      "KNN recommend:  [538699007]\n",
      "KNN recommend:  [564985001]\n",
      "KNN recommend:  [692226003]\n",
      "KNN recommend:  [705979002]\n",
      "KNN recommend:  [736870001]\n",
      "KNN recommend:  [918443002]\n",
      "KNN recommend:  [538699001]\n",
      "KNN recommend:  [767834001]\n",
      "KNN recommend:  [108775044]\n"
     ]
    }
   ],
   "source": [
    "from module.Kfunc import recom_knn\n",
    "art_id = 108775015\n",
    "\n",
    "klist = recom_knn(int(art_id))\n",
    "for i in klist: print(\"KNN recommend: \",i)"
   ]
  },
  {
   "cell_type": "code",
   "execution_count": 3,
   "metadata": {},
   "outputs": [
    {
     "data": {
      "text/plain": [
       "array([565379001])"
      ]
     },
     "execution_count": 3,
     "metadata": {},
     "output_type": "execute_result"
    }
   ],
   "source": []
  },
  {
   "cell_type": "code",
   "execution_count": 12,
   "metadata": {},
   "outputs": [],
   "source": [
    "import numpy as np\n",
    "import pandas as pd\n",
    "from pickle import load\n",
    "from scipy.sparse import  load_npz\n",
    "from sklearn.neighbors import NearestNeighbors\n",
    "from sklearn.preprocessing import LabelEncoder\n",
    "\n",
    "# Load Data\n",
    "# articles = pd.read_csv('./data/articles.csv')\n",
    "articles = pd.read_csv('./module/data/articles.csv')\n",
    "\n",
    "# KNN recommd function\n",
    "art_ID = 108775015\n",
    "\n",
    "query_artcile = art_ID\n",
    "file = \"./module/data/newKnn.pickle\"\n",
    "# file = \"./data/newKnn.pickle\"\n",
    "K = load(open(file,\"rb\"))\n",
    "sparse_matrix = load_npz('./module/data/sparse_matrix.npz')\n",
    "\n",
    "ALL_ITEMS = articles['article_id'].unique().tolist()\n",
    "leItem = LabelEncoder().fit(ALL_ITEMS)\n",
    "\n",
    "index = leItem.transform([query_artcile])\n",
    "distances, indices = K.kneighbors(sparse_matrix[index,:].toarray().reshape(1,-1), n_neighbors = 13)\n",
    "\n",
    "article = []\n",
    "distance = []\n",
    "\n",
    "for i in range(0, len(distances.flatten())):\n",
    "    if i != 0:\n",
    "        article.append(leItem.inverse_transform([indices.flatten()[i]])[0])\n",
    "        distance.append(distances.flatten()[i]) \n",
    "        \n",
    "\n",
    "m=pd.Series(article,name='article')\n",
    "d=pd.Series(distance,name='distance')\n",
    "recommend = pd.concat([m,d], axis=1)\n",
    "recommend = recommend.sort_values('distance',ascending=False)\n",
    "recom_list = [recommend[\"article\"].iloc[i] for i in range(0,recommend.shape[0])] \n"
   ]
  },
  {
   "cell_type": "code",
   "execution_count": 13,
   "metadata": {},
   "outputs": [
    {
     "data": {
      "text/plain": [
       "[565379001,\n",
       " 688463003,\n",
       " 664074001,\n",
       " 538699007,\n",
       " 564985001,\n",
       " 692226003,\n",
       " 705979002,\n",
       " 736870001,\n",
       " 918443002,\n",
       " 538699001,\n",
       " 767834001,\n",
       " 108775044]"
      ]
     },
     "execution_count": 13,
     "metadata": {},
     "output_type": "execute_result"
    }
   ],
   "source": [
    "recom_list"
   ]
  },
  {
   "cell_type": "code",
   "execution_count": null,
   "metadata": {},
   "outputs": [],
   "source": []
  }
 ],
 "metadata": {
  "interpreter": {
   "hash": "6f5362aeac95a1519edf4387e12557a9720c17f5172c9c26ac0dd4c17ab42e96"
  },
  "kernelspec": {
   "display_name": "Python 3.9.7 ('flask')",
   "language": "python",
   "name": "python3"
  },
  "language_info": {
   "codemirror_mode": {
    "name": "ipython",
    "version": 3
   },
   "file_extension": ".py",
   "mimetype": "text/x-python",
   "name": "python",
   "nbconvert_exporter": "python",
   "pygments_lexer": "ipython3",
   "version": "3.9.10"
  },
  "orig_nbformat": 4
 },
 "nbformat": 4,
 "nbformat_minor": 2
}
