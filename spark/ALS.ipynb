{
 "cells": [
  {
   "cell_type": "code",
   "execution_count": 1,
   "metadata": {},
   "outputs": [],
   "source": [
    "import os\n",
    "import numpy as np\n",
    "import pandas as pd\n",
    "\n",
    "from pyspark.sql.types import *\n",
    "from pyspark.sql.functions import *\n",
    "from pyspark.sql.window import *"
   ]
  },
  {
   "cell_type": "code",
   "execution_count": 2,
   "metadata": {},
   "outputs": [],
   "source": [
    "import pyspark\n",
    "from pyspark.sql import SparkSession\n",
    "# import pyspark.pandas as ps\n",
    "\n",
    "spark = SparkSession.builder.appName('HM-recommendations').getOrCreate()"
   ]
  },
  {
   "cell_type": "code",
   "execution_count": 15,
   "metadata": {},
   "outputs": [
    {
     "data": {
      "text/html": [
       "\n",
       "            <div>\n",
       "                <p><b>SparkSession - in-memory</b></p>\n",
       "                \n",
       "        <div>\n",
       "            <p><b>SparkContext</b></p>\n",
       "\n",
       "            <p><a href=\"http://Student-PC:4041\">Spark UI</a></p>\n",
       "\n",
       "            <dl>\n",
       "              <dt>Version</dt>\n",
       "                <dd><code>v3.1.2</code></dd>\n",
       "              <dt>Master</dt>\n",
       "                <dd><code>local[*]</code></dd>\n",
       "              <dt>AppName</dt>\n",
       "                <dd><code>HM-recommendations</code></dd>\n",
       "            </dl>\n",
       "        </div>\n",
       "        \n",
       "            </div>\n",
       "        "
      ],
      "text/plain": [
       "<pyspark.sql.session.SparkSession at 0x200f3345490>"
      ]
     },
     "execution_count": 15,
     "metadata": {},
     "output_type": "execute_result"
    }
   ],
   "source": [
    "spark"
   ]
  },
  {
   "cell_type": "code",
   "execution_count": 4,
   "metadata": {},
   "outputs": [],
   "source": [
    "spark.conf.set(\"spark.sql.execution.arrow.pyspark.enabled\", True)"
   ]
  },
  {
   "cell_type": "code",
   "execution_count": 5,
   "metadata": {},
   "outputs": [],
   "source": [
    "transaction = spark.read.option('header','true').parquet('../data/HM_parquet/transactions_train.parquet')\n",
    "articles = spark.read.option('header','true').parquet('../data/HM_parquet/articles.parquet')\n",
    "customers = spark.read.option('header','true').parquet('../data/HM_parquet/customers.parquet')"
   ]
  },
  {
   "cell_type": "code",
   "execution_count": 6,
   "metadata": {},
   "outputs": [],
   "source": [
    "trainOneMonth = spark.read.option('header','true').parquet('../data/train_one_month.parquet')\n",
    "valOneMonth = spark.read.option('header','true').parquet('../data/val_one_month.parquet')"
   ]
  },
  {
   "cell_type": "code",
   "execution_count": 7,
   "metadata": {},
   "outputs": [
    {
     "data": {
      "text/plain": [
       "['customer_id',\n",
       " 'FN',\n",
       " 'Active',\n",
       " 'club_member_status',\n",
       " 'fashion_news_frequency',\n",
       " 'age',\n",
       " 'postal_code']"
      ]
     },
     "execution_count": 7,
     "metadata": {},
     "output_type": "execute_result"
    }
   ],
   "source": [
    "customers.columns"
   ]
  },
  {
   "cell_type": "code",
   "execution_count": 8,
   "metadata": {},
   "outputs": [
    {
     "data": {
      "text/plain": [
       "['t_dat', 'customer_id', 'article_id', 'price', 'sales_channel_id']"
      ]
     },
     "execution_count": 8,
     "metadata": {},
     "output_type": "execute_result"
    }
   ],
   "source": [
    "transaction.columns"
   ]
  },
  {
   "cell_type": "code",
   "execution_count": 9,
   "metadata": {},
   "outputs": [],
   "source": [
    "from pyspark.ml.evaluation import RegressionEvaluator\n",
    "from pyspark.ml.recommendation import ALS\n",
    "from pyspark.ml.feature import StringIndexer\n"
   ]
  },
  {
   "cell_type": "code",
   "execution_count": null,
   "metadata": {},
   "outputs": [],
   "source": [
    "# 看spark設定\n",
    "# spark.conf.get(\"spark.serializer\")"
   ]
  },
  {
   "cell_type": "code",
   "execution_count": null,
   "metadata": {},
   "outputs": [],
   "source": [
    "# 改spark buffer 設定\n",
    "# spark.conf.set(\"spark.serializer\", \"org.apache.spark.serializer.KryoSerializer\")\n",
    "# spark.conf.set(\"spark.kryoserializer.buffer.max\", \"128m\")"
   ]
  },
  {
   "cell_type": "code",
   "execution_count": null,
   "metadata": {},
   "outputs": [],
   "source": [
    "# 將customer_id的字串轉為數字(buffer不夠大)\n",
    "# indexer = StringIndexer(inputCol=\"customer_id\", outputCol=\"customer_index\")\n",
    "# indexed = indexer.fit(customers).transform(customers)\n",
    "# indexed.show()"
   ]
  },
  {
   "cell_type": "code",
   "execution_count": null,
   "metadata": {},
   "outputs": [],
   "source": [
    "def string_to_index(self,transactions,customers,articles):\n",
    "        \"\"\"傳入transaction,customers,articles 的 DataFrame，接著取出完整的users和items清單，然後將customer_id和article_id轉為編號，並且map到transaction上形成新的欄位。\n",
    "\n",
    "        Args:\n",
    "            transactions ([DataFrame])\n",
    "            customers ([DataFrame])\n",
    "            articles ([DataFrame])\n",
    "            \n",
    "        Returns:\n",
    "            transactions ([DataFrame])\n",
    "        \"\"\"    \n",
    "        dfu = customers\n",
    "        dfi = articles\n",
    "        ALL_USERS = dfu.select('customer_id').distinct()\n",
    "        ALL_ITEMS = dfi.select('article_id').distinct()\n",
    "\n",
    "        user_ids = dict(list(enumerate(ALL_USERS)))\n",
    "        item_ids = dict(list(enumerate(ALL_ITEMS)))\n",
    "\n",
    "        user_map = {u: uidx for uidx, u in user_ids.items()}\n",
    "        item_map = {i: iidx for iidx, i in item_ids.items()}\n",
    "        # 將落落長的使用者id和商品id轉為編號\n",
    "        transactions['user_id'] = transactions['customer_id'].map(user_map)\n",
    "        transactions['item_id'] = transactions['article_id'].map(item_map)\n",
    "\n",
    "        del dfu, dfi\n",
    "        return transactions"
   ]
  },
  {
   "cell_type": "code",
   "execution_count": 25,
   "metadata": {},
   "outputs": [],
   "source": [
    "dfu = customers\n",
    "ALL_USERS = dfu.select('customer_id').distinct()\n",
    "user_ids = dict(list(enumerate(ALL_USERS)))\n",
    "user_map = {u: uidx for uidx, u in user_ids.items()}\n",
    "transaction.withColumn('user_id')"
   ]
  },
  {
   "cell_type": "code",
   "execution_count": null,
   "metadata": {},
   "outputs": [],
   "source": [
    "als=ALS(maxIter=5,regParam=0.09,rank=25,userCol=\"customer_id\",itemCol=\"article_id\",ratingCol=\"count\",coldStartStrategy=\"drop\",nonnegative=True)\n",
    "model=als.fit(training)"
   ]
  }
 ],
 "metadata": {
  "interpreter": {
   "hash": "7a92cbcf0e54319bd537504dd06c788c2290917353461c754c87e8cf50a6053b"
  },
  "kernelspec": {
   "display_name": "Python 3.8.12 64-bit ('Python38_20211231': conda)",
   "language": "python",
   "name": "python3"
  },
  "language_info": {
   "codemirror_mode": {
    "name": "ipython",
    "version": 3
   },
   "file_extension": ".py",
   "mimetype": "text/x-python",
   "name": "python",
   "nbconvert_exporter": "python",
   "pygments_lexer": "ipython3",
   "version": "3.8.12"
  },
  "orig_nbformat": 4
 },
 "nbformat": 4,
 "nbformat_minor": 2
}
