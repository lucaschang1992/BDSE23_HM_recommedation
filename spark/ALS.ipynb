{
 "cells": [
  {
   "cell_type": "code",
   "execution_count": null,
   "metadata": {},
   "outputs": [],
   "source": [
    "# # 改spark buffer 設定\n",
    "# spark.conf.set(\"spark.serializer\", \"org.apache.spark.serializer.KryoSerializer\")\n",
    "# spark.conf.set(\"spark.kryoserializer.buffer.max\", \"128m\")"
   ]
  },
  {
   "cell_type": "code",
   "execution_count": 1,
   "metadata": {},
   "outputs": [
    {
     "data": {
      "text/plain": [
       "'512m'"
      ]
     },
     "execution_count": 1,
     "metadata": {},
     "output_type": "execute_result"
    }
   ],
   "source": [
    "spark.conf.get(\"spark.kryoserializer.buffer.max\")"
   ]
  },
  {
   "cell_type": "code",
   "execution_count": 2,
   "metadata": {},
   "outputs": [],
   "source": [
    "import os\n",
    "import numpy as np\n",
    "import pandas as pd\n",
    "\n",
    "from pyspark.sql.types import *\n",
    "from pyspark.sql.functions import *\n",
    "from pyspark.sql.window import *\n",
    "import pyspark.pandas as ps"
   ]
  },
  {
   "cell_type": "code",
   "execution_count": 3,
   "metadata": {
    "tags": []
   },
   "outputs": [],
   "source": [
    "spark.conf.set(\"spark.sql.execution.arrow.pyspark.enabled\", True)\n",
    "ps.set_option(\"compute.default_index_type\", \"distributed\")"
   ]
  },
  {
   "cell_type": "code",
   "execution_count": 4,
   "metadata": {},
   "outputs": [
    {
     "data": {
      "text/html": [
       "\n",
       "            <div>\n",
       "                <p><b>SparkSession - hive</b></p>\n",
       "                \n",
       "        <div>\n",
       "            <p><b>SparkContext</b></p>\n",
       "\n",
       "            <p><a href=\"http://bdse111.example.com:4040\">Spark UI</a></p>\n",
       "\n",
       "            <dl>\n",
       "              <dt>Version</dt>\n",
       "                <dd><code>v3.2.1</code></dd>\n",
       "              <dt>Master</dt>\n",
       "                <dd><code>yarn</code></dd>\n",
       "              <dt>AppName</dt>\n",
       "                <dd><code>PySparkShell</code></dd>\n",
       "            </dl>\n",
       "        </div>\n",
       "        \n",
       "            </div>\n",
       "        "
      ],
      "text/plain": [
       "<pyspark.sql.session.SparkSession at 0x7fe711e12b50>"
      ]
     },
     "execution_count": 4,
     "metadata": {},
     "output_type": "execute_result"
    }
   ],
   "source": [
    "spark"
   ]
  },
  {
   "cell_type": "markdown",
   "metadata": {
    "tags": []
   },
   "source": [
    "# 一個月的資料"
   ]
  },
  {
   "cell_type": "code",
   "execution_count": 5,
   "metadata": {},
   "outputs": [
    {
     "name": "stderr",
     "output_type": "stream",
     "text": [
      "                                                                                \r"
     ]
    }
   ],
   "source": [
    "customers = spark.read.option('header','true').parquet('/user/HM_parquet/customers.parquet')\n",
    "trainOneMonth = spark.read.option('header','true').parquet('/user/HM_parquet/train_one_month.parquet')\n",
    "valOneMonth = spark.read.option('header','true').parquet('/user/HM_parquet/val_one_month.parquet')"
   ]
  },
  {
   "cell_type": "code",
   "execution_count": null,
   "metadata": {},
   "outputs": [],
   "source": [
    "customers.columns"
   ]
  },
  {
   "cell_type": "code",
   "execution_count": null,
   "metadata": {},
   "outputs": [],
   "source": [
    "transaction.columns"
   ]
  },
  {
   "cell_type": "code",
   "execution_count": 11,
   "metadata": {},
   "outputs": [],
   "source": [
    "from pyspark.ml.evaluation import RegressionEvaluator\n",
    "from pyspark.ml.recommendation import ALS\n",
    "from pyspark.ml.feature import StringIndexer, IndexToString"
   ]
  },
  {
   "cell_type": "code",
   "execution_count": 14,
   "metadata": {},
   "outputs": [
    {
     "name": "stderr",
     "output_type": "stream",
     "text": [
      "2022-03-13 14:28:57,106 WARN scheduler.DAGScheduler: Broadcasting large task binary with size 111.2 MiB\n",
      "2022-03-13 14:29:01,715 WARN scheduler.DAGScheduler: Broadcasting large task binary with size 111.2 MiB\n",
      "2022-03-13 14:29:09,213 WARN scheduler.DAGScheduler: Broadcasting large task binary with size 111.2 MiB\n",
      "[Stage 23:===================================================>      (8 + 1) / 9]\r"
     ]
    },
    {
     "name": "stdout",
     "output_type": "stream",
     "text": [
      "+--------------------+----+------+------------------+----------------------+----+--------------------+--------------+\n",
      "|         customer_id|  FN|Active|club_member_status|fashion_news_frequency| age|         postal_code|customer_index|\n",
      "+--------------------+----+------+------------------+----------------------+----+--------------------+--------------+\n",
      "|00000dbacae5abe5e...|null|  null|            ACTIVE|                  NONE|  49|52043ee2162cf5aa7...|           0.0|\n",
      "|0000423b00ade9141...|null|  null|            ACTIVE|                  NONE|  25|2973abc54daa8a5f8...|           1.0|\n",
      "|000058a12d5b43e67...|null|  null|            ACTIVE|                  NONE|  24|64f17e6a330a85798...|           2.0|\n",
      "|00005ca1c9ed5f514...|null|  null|            ACTIVE|                  NONE|  54|5d36574f52495e81f...|           3.0|\n",
      "|00006413d8573cd20...| 1.0|   1.0|            ACTIVE|             Regularly|  52|25fa5ddee9aac01b3...|           4.0|\n",
      "|000064249685c1155...|null|  null|                  |                      |null|2c29ae653a9282cce...|           5.0|\n",
      "|0000757967448a6cb...|null|  null|            ACTIVE|                  NONE|  20|fe7b8e2b3fafb89ca...|           6.0|\n",
      "|00007d2de826758b6...| 1.0|   1.0|            ACTIVE|             Regularly|  32|8d6f45050876d059c...|           7.0|\n",
      "|00007e8d4e54114b5...|null|  null|            ACTIVE|                  NONE|  20|2c29ae653a9282cce...|           8.0|\n",
      "|00008469a21b50b3d...|null|  null|            ACTIVE|                  NONE|  20|2c29ae653a9282cce...|           9.0|\n",
      "|0000945f66de1a11d...|null|  null|            ACTIVE|                  NONE|  29|d93e1aaecdebf9f71...|          10.0|\n",
      "|000097d91384a0c14...|null|  null|            ACTIVE|                  NONE|  31|2c29ae653a9282cce...|          11.0|\n",
      "|00009c2aeae8761f7...|null|  null|            ACTIVE|                  NONE|  49|7e2caa18837edc6a7...|          12.0|\n",
      "|00009d946eec3ea54...| 1.0|   1.0|            ACTIVE|             Regularly|  56|b31984b20a8c478de...|          13.0|\n",
      "|0000ae1bbb25e04bd...| 1.0|   1.0|            ACTIVE|             Regularly|  29|2c29ae653a9282cce...|          14.0|\n",
      "|0000b2f1829e23b24...| 1.0|   1.0|            ACTIVE|             Regularly|  54|ca8ca81e8b5794992...|          15.0|\n",
      "|0000b7a134c3ec0d8...|null|  null|            ACTIVE|                  NONE|  75|e3f4042e6f6c5d816...|          16.0|\n",
      "|0000b95f630aaa931...| 1.0|   1.0|            ACTIVE|             Regularly|  49|f63abf76506122d9f...|          17.0|\n",
      "|0000c97821eb48d0e...|null|  null|            ACTIVE|                  NONE|  49|8ff2d3103bd127d46...|          18.0|\n",
      "|0000d6c053fc8f938...| 1.0|   1.0|            ACTIVE|             Regularly|  41|5b5f53c673d0fc077...|          19.0|\n",
      "+--------------------+----+------+------------------+----------------------+----+--------------------+--------------+\n",
      "only showing top 20 rows\n",
      "\n"
     ]
    },
    {
     "name": "stderr",
     "output_type": "stream",
     "text": [
      "                                                                                \r"
     ]
    }
   ],
   "source": [
    "# 將customer_id的字串轉為數字(buffer要增加到512m)\n",
    "toIndex = StringIndexer(inputCol=\"customer_id\", outputCol=\"customer_index\").fit(customers)\n",
    "indexed = toIndex.transform(customers)\n",
    "indexed.show()"
   ]
  },
  {
   "cell_type": "code",
   "execution_count": 10,
   "metadata": {},
   "outputs": [
    {
     "name": "stderr",
     "output_type": "stream",
     "text": [
      "2022-03-13 14:26:04,731 WARN scheduler.DAGScheduler: Broadcasting large task binary with size 111.2 MiB\n",
      "2022-03-13 14:26:08,668 WARN scheduler.DAGScheduler: Broadcasting large task binary with size 111.2 MiB\n",
      "2022-03-13 14:26:16,741 WARN scheduler.DAGScheduler: Broadcasting large task binary with size 111.2 MiB\n",
      "[Stage 11:=============================================>            (7 + 2) / 9]\r"
     ]
    },
    {
     "name": "stdout",
     "output_type": "stream",
     "text": [
      "+--------------------+----+------+------------------+----------------------+----+--------------------+--------------+--------------------+\n",
      "|         customer_id|  FN|Active|club_member_status|fashion_news_frequency| age|         postal_code|customer_index|   customer_index_id|\n",
      "+--------------------+----+------+------------------+----------------------+----+--------------------+--------------+--------------------+\n",
      "|00000dbacae5abe5e...|null|  null|            ACTIVE|                  NONE|  49|52043ee2162cf5aa7...|           0.0|00000dbacae5abe5e...|\n",
      "|0000423b00ade9141...|null|  null|            ACTIVE|                  NONE|  25|2973abc54daa8a5f8...|           1.0|0000423b00ade9141...|\n",
      "|000058a12d5b43e67...|null|  null|            ACTIVE|                  NONE|  24|64f17e6a330a85798...|           2.0|000058a12d5b43e67...|\n",
      "|00005ca1c9ed5f514...|null|  null|            ACTIVE|                  NONE|  54|5d36574f52495e81f...|           3.0|00005ca1c9ed5f514...|\n",
      "|00006413d8573cd20...| 1.0|   1.0|            ACTIVE|             Regularly|  52|25fa5ddee9aac01b3...|           4.0|00006413d8573cd20...|\n",
      "|000064249685c1155...|null|  null|                  |                      |null|2c29ae653a9282cce...|           5.0|000064249685c1155...|\n",
      "|0000757967448a6cb...|null|  null|            ACTIVE|                  NONE|  20|fe7b8e2b3fafb89ca...|           6.0|0000757967448a6cb...|\n",
      "|00007d2de826758b6...| 1.0|   1.0|            ACTIVE|             Regularly|  32|8d6f45050876d059c...|           7.0|00007d2de826758b6...|\n",
      "|00007e8d4e54114b5...|null|  null|            ACTIVE|                  NONE|  20|2c29ae653a9282cce...|           8.0|00007e8d4e54114b5...|\n",
      "|00008469a21b50b3d...|null|  null|            ACTIVE|                  NONE|  20|2c29ae653a9282cce...|           9.0|00008469a21b50b3d...|\n",
      "|0000945f66de1a11d...|null|  null|            ACTIVE|                  NONE|  29|d93e1aaecdebf9f71...|          10.0|0000945f66de1a11d...|\n",
      "|000097d91384a0c14...|null|  null|            ACTIVE|                  NONE|  31|2c29ae653a9282cce...|          11.0|000097d91384a0c14...|\n",
      "|00009c2aeae8761f7...|null|  null|            ACTIVE|                  NONE|  49|7e2caa18837edc6a7...|          12.0|00009c2aeae8761f7...|\n",
      "|00009d946eec3ea54...| 1.0|   1.0|            ACTIVE|             Regularly|  56|b31984b20a8c478de...|          13.0|00009d946eec3ea54...|\n",
      "|0000ae1bbb25e04bd...| 1.0|   1.0|            ACTIVE|             Regularly|  29|2c29ae653a9282cce...|          14.0|0000ae1bbb25e04bd...|\n",
      "|0000b2f1829e23b24...| 1.0|   1.0|            ACTIVE|             Regularly|  54|ca8ca81e8b5794992...|          15.0|0000b2f1829e23b24...|\n",
      "|0000b7a134c3ec0d8...|null|  null|            ACTIVE|                  NONE|  75|e3f4042e6f6c5d816...|          16.0|0000b7a134c3ec0d8...|\n",
      "|0000b95f630aaa931...| 1.0|   1.0|            ACTIVE|             Regularly|  49|f63abf76506122d9f...|          17.0|0000b95f630aaa931...|\n",
      "|0000c97821eb48d0e...|null|  null|            ACTIVE|                  NONE|  49|8ff2d3103bd127d46...|          18.0|0000c97821eb48d0e...|\n",
      "|0000d6c053fc8f938...| 1.0|   1.0|            ACTIVE|             Regularly|  41|5b5f53c673d0fc077...|          19.0|0000d6c053fc8f938...|\n",
      "+--------------------+----+------+------------------+----------------------+----+--------------------+--------------+--------------------+\n",
      "only showing top 20 rows\n",
      "\n"
     ]
    },
    {
     "name": "stderr",
     "output_type": "stream",
     "text": [
      "                                                                                \r"
     ]
    }
   ],
   "source": [
    "# 將customer_index轉回原本的id\n",
    "toId = IndexToString(inputCol=\"customer_index\", outputCol=\"customer_index_id\")\n",
    "itd = inverter.transform(indexed)\n",
    "itd.show()"
   ]
  },
  {
   "cell_type": "code",
   "execution_count": null,
   "metadata": {},
   "outputs": [],
   "source": []
  },
  {
   "cell_type": "code",
   "execution_count": null,
   "metadata": {},
   "outputs": [],
   "source": []
  },
  {
   "cell_type": "code",
   "execution_count": null,
   "metadata": {},
   "outputs": [],
   "source": []
  }
 ],
 "metadata": {
  "interpreter": {
   "hash": "7a92cbcf0e54319bd537504dd06c788c2290917353461c754c87e8cf50a6053b"
  },
  "kernelspec": {
   "display_name": "Python 3 (ipykernel)",
   "language": "python",
   "name": "python3"
  },
  "language_info": {
   "codemirror_mode": {
    "name": "ipython",
    "version": 3
   },
   "file_extension": ".py",
   "mimetype": "text/x-python",
   "name": "python",
   "nbconvert_exporter": "python",
   "pygments_lexer": "ipython3",
   "version": "3.8.10"
  }
 },
 "nbformat": 4,
 "nbformat_minor": 4
}
