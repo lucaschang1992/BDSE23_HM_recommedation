{
 "cells": [
  {
   "cell_type": "code",
   "execution_count": 1,
   "id": "458744cd-e2db-463e-a419-0ad9e6145e9d",
   "metadata": {},
   "outputs": [
    {
     "data": {
      "text/html": [
       "\n",
       "            <div>\n",
       "                <p><b>SparkSession - hive</b></p>\n",
       "                \n",
       "        <div>\n",
       "            <p><b>SparkContext</b></p>\n",
       "\n",
       "            <p><a href=\"http://bdse111.example.com:4041\">Spark UI</a></p>\n",
       "\n",
       "            <dl>\n",
       "              <dt>Version</dt>\n",
       "                <dd><code>v3.2.1</code></dd>\n",
       "              <dt>Master</dt>\n",
       "                <dd><code>yarn</code></dd>\n",
       "              <dt>AppName</dt>\n",
       "                <dd><code>PySparkShell</code></dd>\n",
       "            </dl>\n",
       "        </div>\n",
       "        \n",
       "            </div>\n",
       "        "
      ],
      "text/plain": [
       "<pyspark.sql.session.SparkSession at 0x7fc980b18b80>"
      ]
     },
     "execution_count": 1,
     "metadata": {},
     "output_type": "execute_result"
    }
   ],
   "source": [
    "spark"
   ]
  },
  {
   "cell_type": "code",
   "execution_count": null,
   "id": "3706663a-2717-490c-8787-adaf1af62898",
   "metadata": {},
   "outputs": [],
   "source": [
    "import pandas as pd\n",
    "from dateutil.relativedelta import *\n",
    "from model.TimeBasedCV import TimeBasedCV"
   ]
  },
  {
   "cell_type": "markdown",
   "id": "20a1bf7d-df89-4692-9435-e24f600ebb60",
   "metadata": {},
   "source": [
    "# 定義函數"
   ]
  },
  {
   "cell_type": "code",
   "execution_count": null,
   "id": "0d0b58be-7057-4aac-9516-a9e5b280c140",
   "metadata": {},
   "outputs": [],
   "source": [
    "def train_and_evaluate_model(dataTrain, dataTest, paras={}):\n",
    "    \n",
    "    # == 轉換成 model 需要的資料型態 ==\n",
    "    \n",
    "    model = # modelName(paras)\n",
    "    model.fit(dataTrain)\n",
    "    \n",
    "    map12= # 計算map12\n",
    "    \n",
    "    return map12\n",
    "    "
   ]
  },
  {
   "cell_type": "code",
   "execution_count": null,
   "id": "bace2342-f05b-443b-bd35-b37c2cc3e0f3",
   "metadata": {},
   "outputs": [],
   "source": [
    "def time_split_hyperparameter_search(data):\n",
    "    paras = {\n",
    "        # 'para1' : para1.values[0],\n",
    "        # 'para2' : para2.values[0]\n",
    "    }\n",
    "    \n",
    "    dataTrain = # data最後七天之前\n",
    "    dataTest = # data最後七天\n",
    "    \n",
    "    map12 = train_and_evaluate_model(dataTrain, dataTest, paras)\n",
    "    \n",
    "    paras.update({\n",
    "        'date_x_paras_id' : data.date_x_paras_id.values[0],\n",
    "        'val_date' : data.val_date.values[0],\n",
    "        'map12' : map12\n",
    "    })\n",
    "    \n",
    "    results = pd.DataFrame([paras])\n",
    "    \n",
    "    return results\n"
   ]
  },
  {
   "cell_type": "markdown",
   "id": "c4046929-6f7f-4db3-bf24-0c1d443b16c1",
   "metadata": {},
   "source": [
    "# main"
   ]
  },
  {
   "cell_type": "code",
   "execution_count": 3,
   "id": "8a52e224-fdb2-41fe-88c2-898a842e26f5",
   "metadata": {},
   "outputs": [],
   "source": [
    "# 把資料依據時間做time split\n",
    "\n",
    "tscv = TimeBasedCV(freq='days')\n",
    "train_period, test_period, stride = 30, 7, 30\n",
    "index_output = tscv.split(transactions, 't_dat', train_period, test_period, stride,show_progress=True)\n",
    "\n"
   ]
  },
  {
   "cell_type": "code",
   "execution_count": null,
   "id": "0b3260e8-a8f7-4ea0-9ef1-fab3934b9a00",
   "metadata": {},
   "outputs": [],
   "source": [
    "# pandas_udf\n",
    "\n",
    "schema = StructType(\n",
    "    [\n",
    "        StructField('date_x_paras_id', IntegerType(),True),\n",
    "        StructField('map12', FloatType(),True),\n",
    "        StructField('val_date', DateTime(),True),\n",
    "        StructField(\"para1\", IntegerType(), True),\n",
    "        StructField(\"para2\", IntegerType(), True)\n",
    "     ]\n",
    ")\n",
    "\n",
    "results = df.groupby('date_x_paras_id').applyInPandas(time_split_hyperparameter_search, schema)\n",
    "results.show()"
   ]
  },
  {
   "cell_type": "code",
   "execution_count": null,
   "id": "4e2a046a-4b11-4ae0-8e0d-fbd631528b0d",
   "metadata": {},
   "outputs": [],
   "source": [
    "# 做 time based CV\n",
    "scores = pd.DataFrame(columns=[\"train_period\",\"val_period\",\"stride\"])\n",
    "\n",
    "for train_index, val_index in index_output:\n",
    "    train_data = transactions.loc[train_index]\n",
    "    val_data = transactions.loc[val_index]\n",
    "    # 取得val開始日期\n",
    "    val_data.reset_index(inplace=True, drop=True)\n",
    "    start_val = val_data['t_dat'][0]\n",
    "    # 呼叫訓練模型的function\n",
    "    one_fold_scores = model.train_ALS(train_data, val_data, train_period, val_period, stride, start_val)\n",
    "    scores = pd.concat([scores,one_fold_scores], axis=0 ,ignore_index=True)\n",
    "\n",
    "scores.to_parquet('model/params/implicit_ALS_30.parquet')"
   ]
  }
 ],
 "metadata": {
  "kernelspec": {
   "display_name": "Python 3 (ipykernel)",
   "language": "python",
   "name": "python3"
  },
  "language_info": {
   "codemirror_mode": {
    "name": "ipython",
    "version": 3
   },
   "file_extension": ".py",
   "mimetype": "text/x-python",
   "name": "python",
   "nbconvert_exporter": "python",
   "pygments_lexer": "ipython3",
   "version": "3.8.10"
  }
 },
 "nbformat": 4,
 "nbformat_minor": 5
}
