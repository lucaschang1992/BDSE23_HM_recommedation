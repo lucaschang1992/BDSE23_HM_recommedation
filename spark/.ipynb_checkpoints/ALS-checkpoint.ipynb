{
 "cells": [
  {
   "cell_type": "code",
   "execution_count": 1,
   "metadata": {},
   "outputs": [],
   "source": [
    "import os\n",
    "import numpy as np\n",
    "import pandas as pd\n",
    "\n",
    "from pyspark.sql.types import *\n",
    "from pyspark.sql.functions import *\n",
    "from pyspark.sql.window import *"
   ]
  },
  {
   "cell_type": "code",
   "execution_count": 2,
   "metadata": {},
   "outputs": [],
   "source": [
    "import pyspark\n",
    "from pyspark.sql import SparkSession\n",
    "# import pyspark.pandas as ps\n",
    "\n",
    "spark = SparkSession.builder.appName('HM-recommendations').getOrCreate()"
   ]
  },
  {
   "cell_type": "code",
   "execution_count": 3,
   "metadata": {},
   "outputs": [
    {
     "data": {
      "text/html": [
       "\n",
       "            <div>\n",
       "                <p><b>SparkSession - hive</b></p>\n",
       "                \n",
       "        <div>\n",
       "            <p><b>SparkContext</b></p>\n",
       "\n",
       "            <p><a href=\"http://bdse111.example.com:4040\">Spark UI</a></p>\n",
       "\n",
       "            <dl>\n",
       "              <dt>Version</dt>\n",
       "                <dd><code>v3.2.1</code></dd>\n",
       "              <dt>Master</dt>\n",
       "                <dd><code>yarn</code></dd>\n",
       "              <dt>AppName</dt>\n",
       "                <dd><code>PySparkShell</code></dd>\n",
       "            </dl>\n",
       "        </div>\n",
       "        \n",
       "            </div>\n",
       "        "
      ],
      "text/plain": [
       "<pyspark.sql.session.SparkSession at 0x7fb73d098af0>"
      ]
     },
     "execution_count": 3,
     "metadata": {},
     "output_type": "execute_result"
    }
   ],
   "source": [
    "spark"
   ]
  },
  {
   "cell_type": "code",
   "execution_count": 4,
   "metadata": {},
   "outputs": [],
   "source": [
    "spark.conf.set(\"spark.sql.execution.arrow.pyspark.enabled\", True)"
   ]
  },
  {
   "cell_type": "markdown",
   "metadata": {},
   "source": [
    "# 比較資料讀取速度"
   ]
  },
  {
   "cell_type": "code",
   "execution_count": 5,
   "metadata": {},
   "outputs": [
    {
     "name": "stderr",
     "output_type": "stream",
     "text": [
      "UsageError: Cell magic `%%` not found.\n"
     ]
    }
   ],
   "source": [
    "%%timeit\n",
    "# hdfs parquet\n",
    "transactions_pq = spark.read.option('header','true').parquet('/user/HM_parquet/transactions_train.parquet')\n",
    "articles_pq = spark.read.option('header','true').parquet('/user/HM_parquet/articles.parquet')\n",
    "customers_pq = spark.read.option('header','true').parquet('/user/HM_parquet/customers.parquet')"
   ]
  },
  {
   "cell_type": "code",
   "execution_count": null,
   "metadata": {},
   "outputs": [],
   "source": [
    "%%timeit\n",
    "# hdfs csv\n",
    "transactions_csv = spark.read.option('header','true').csv('/user/HM_csv/transactions_train.csv')\n",
    "articles_csv = spark.read.option('header','true').csv('/user/HM_csv/articles.csv')\n",
    "customers_csv = spark.read.option('header','true').csv('/user/HM_csv/customers.csv')"
   ]
  },
  {
   "cell_type": "code",
   "execution_count": null,
   "metadata": {},
   "outputs": [],
   "source": [
    "# mysql 配置(需要修改)\n",
    "prop = {'user': 'maggie',\n",
    "        'password': 'root',\n",
    "        'driver': 'com.mysql.cj.jdbc.Driver'}\n",
    "\n",
    "# database 地址(需要修改)\n",
    "url = 'jdbc:mysql://172.22.33.43:3306/HM?useUnicode=true&characterEncoding=UTF-8&serverTimezone=UTC'"
   ]
  },
  {
   "cell_type": "code",
   "execution_count": null,
   "metadata": {},
   "outputs": [],
   "source": [
    "%%timeit\n",
    "# mySQL connector\n",
    "transactions_sql = spark.read.jdbc(url=url, table='transactions_train', properties=prop)\n",
    "articles_sql = spark.read.jdbc(url=url, table='articles', properties=prop)\n",
    "customers_sql = spark.read.jdbc(url=url, table='customers', properties=prop)"
   ]
  },
  {
   "cell_type": "code",
   "execution_count": null,
   "metadata": {},
   "outputs": [],
   "source": [
    "trainOneMonth = spark.read.option('header','true').parquet('../data/train_one_month.parquet')\n",
    "valOneMonth = spark.read.option('header','true').parquet('../data/val_one_month.parquet')"
   ]
  },
  {
   "cell_type": "code",
   "execution_count": null,
   "metadata": {},
   "outputs": [],
   "source": [
    "customers.columns"
   ]
  },
  {
   "cell_type": "code",
   "execution_count": null,
   "metadata": {},
   "outputs": [],
   "source": [
    "transaction.columns"
   ]
  },
  {
   "cell_type": "code",
   "execution_count": null,
   "metadata": {},
   "outputs": [],
   "source": [
    "from pyspark.ml.evaluation import RegressionEvaluator\n",
    "from pyspark.ml.recommendation import ALS\n",
    "from pyspark.ml.feature import StringIndexer\n"
   ]
  },
  {
   "cell_type": "code",
   "execution_count": null,
   "metadata": {},
   "outputs": [],
   "source": [
    "# 看spark設定\n",
    "# spark.conf.get(\"spark.serializer\")"
   ]
  },
  {
   "cell_type": "code",
   "execution_count": null,
   "metadata": {},
   "outputs": [],
   "source": [
    "# 改spark buffer 設定\n",
    "# spark.conf.set(\"spark.serializer\", \"org.apache.spark.serializer.KryoSerializer\")\n",
    "# spark.conf.set(\"spark.kryoserializer.buffer.max\", \"128m\")"
   ]
  },
  {
   "cell_type": "code",
   "execution_count": null,
   "metadata": {},
   "outputs": [],
   "source": [
    "# 將customer_id的字串轉為數字(buffer不夠大)\n",
    "# indexer = StringIndexer(inputCol=\"customer_id\", outputCol=\"customer_index\")\n",
    "# indexed = indexer.fit(customers).transform(customers)\n",
    "# indexed.show()"
   ]
  },
  {
   "cell_type": "code",
   "execution_count": null,
   "metadata": {},
   "outputs": [],
   "source": [
    "def string_to_index(self,transactions,customers,articles):\n",
    "        \"\"\"傳入transaction,customers,articles 的 DataFrame，接著取出完整的users和items清單，然後將customer_id和article_id轉為編號，並且map到transaction上形成新的欄位。\n",
    "\n",
    "        Args:\n",
    "            transactions ([DataFrame])\n",
    "            customers ([DataFrame])\n",
    "            articles ([DataFrame])\n",
    "            \n",
    "        Returns:\n",
    "            transactions ([DataFrame])\n",
    "        \"\"\"    \n",
    "        dfu = customers\n",
    "        dfi = articles\n",
    "        ALL_USERS = dfu.select('customer_id').distinct()\n",
    "        ALL_ITEMS = dfi.select('article_id').distinct()\n",
    "\n",
    "        user_ids = dict(list(enumerate(ALL_USERS)))\n",
    "        item_ids = dict(list(enumerate(ALL_ITEMS)))\n",
    "\n",
    "        user_map = {u: uidx for uidx, u in user_ids.items()}\n",
    "        item_map = {i: iidx for iidx, i in item_ids.items()}\n",
    "        # 將落落長的使用者id和商品id轉為編號\n",
    "        transactions['user_id'] = transactions['customer_id'].map(user_map)\n",
    "        transactions['item_id'] = transactions['article_id'].map(item_map)\n",
    "\n",
    "        del dfu, dfi\n",
    "        return transactions"
   ]
  },
  {
   "cell_type": "code",
   "execution_count": null,
   "metadata": {},
   "outputs": [],
   "source": [
    "dfu = customers\n",
    "ALL_USERS = dfu.select('customer_id').distinct()\n",
    "user_ids = dict(list(enumerate(ALL_USERS)))\n",
    "user_map = {u: uidx for uidx, u in user_ids.items()}\n",
    "transaction.withColumn('user_id')"
   ]
  },
  {
   "cell_type": "code",
   "execution_count": null,
   "metadata": {},
   "outputs": [],
   "source": [
    "als=ALS(maxIter=5,regParam=0.09,rank=25,userCol=\"customer_id\",itemCol=\"article_id\",ratingCol=\"count\",coldStartStrategy=\"drop\",nonnegative=True)\n",
    "model=als.fit(training)"
   ]
  }
 ],
 "metadata": {
  "interpreter": {
   "hash": "7a92cbcf0e54319bd537504dd06c788c2290917353461c754c87e8cf50a6053b"
  },
  "kernelspec": {
   "display_name": "Python 3 (ipykernel)",
   "language": "python",
   "name": "python3"
  },
  "language_info": {
   "codemirror_mode": {
    "name": "ipython",
    "version": 3
   },
   "file_extension": ".py",
   "mimetype": "text/x-python",
   "name": "python",
   "nbconvert_exporter": "python",
   "pygments_lexer": "ipython3",
   "version": "3.8.10"
  }
 },
 "nbformat": 4,
 "nbformat_minor": 4
}
