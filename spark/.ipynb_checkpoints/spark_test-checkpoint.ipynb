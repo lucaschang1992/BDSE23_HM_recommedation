{
 "cells": [
  {
   "cell_type": "code",
   "execution_count": 3,
   "id": "6c6c8c78-379a-4c6a-80c7-7835db989114",
   "metadata": {
    "tags": []
   },
   "outputs": [
    {
     "data": {
      "text/html": [
       "\n",
       "            <div>\n",
       "                <p><b>SparkSession - hive</b></p>\n",
       "                \n",
       "        <div>\n",
       "            <p><b>SparkContext</b></p>\n",
       "\n",
       "            <p><a href=\"http://bdse111.example.com:4040\">Spark UI</a></p>\n",
       "\n",
       "            <dl>\n",
       "              <dt>Version</dt>\n",
       "                <dd><code>v3.2.1</code></dd>\n",
       "              <dt>Master</dt>\n",
       "                <dd><code>yarn</code></dd>\n",
       "              <dt>AppName</dt>\n",
       "                <dd><code>PySparkShell</code></dd>\n",
       "            </dl>\n",
       "        </div>\n",
       "        \n",
       "            </div>\n",
       "        "
      ],
      "text/plain": [
       "<pyspark.sql.session.SparkSession at 0x7f34b1e92ac0>"
      ]
     },
     "execution_count": 3,
     "metadata": {},
     "output_type": "execute_result"
    }
   ],
   "source": [
    "spark"
   ]
  },
  {
   "cell_type": "markdown",
   "id": "93e8d468-a25c-4f7e-9c6b-ee23dd547f26",
   "metadata": {},
   "source": [
    "# 讀取速度: DataFrame vs Pyspark.pandas"
   ]
  },
  {
   "cell_type": "code",
   "execution_count": null,
   "id": "d8562d10-c782-4cff-8db7-5674e24c2876",
   "metadata": {},
   "outputs": [],
   "source": [
    "# DataFrame\n",
    "transactions_df = spark.read.option('header','true').parquet('/user/HM_parquet/transactions_train.parquet')\n",
    "# pyspark.pandas\n",
    "transactions_ps = ps.read_parquet('/user/HM_parquet/transactions_train.parquet')"
   ]
  },
  {
   "cell_type": "code",
   "execution_count": null,
   "id": "49381f25-86e6-4665-8157-4e71c6b9a3ba",
   "metadata": {},
   "outputs": [],
   "source": [
    "%%timeit\n",
    "transactions_df.head(10)"
   ]
  },
  {
   "cell_type": "code",
   "execution_count": null,
   "id": "bd6ae909-7272-4290-a216-c321bda9daa2",
   "metadata": {},
   "outputs": [],
   "source": [
    "%%timeit\n",
    "transactions_ps.head(10)"
   ]
  },
  {
   "cell_type": "markdown",
   "id": "896ce376-573e-4036-bb8f-03d7429bdf33",
   "metadata": {},
   "source": [
    "# 讀取速度: csv/parquet/mysql"
   ]
  },
  {
   "cell_type": "markdown",
   "id": "2941e71b-e0d1-421c-a6d0-1f5da53e5ac9",
   "metadata": {},
   "source": [
    "## hdfs parquet (ps較快)"
   ]
  },
  {
   "cell_type": "code",
   "execution_count": 4,
   "id": "033d52e6-8472-4b29-82e1-dc3b3be7f05a",
   "metadata": {
    "tags": []
   },
   "outputs": [
    {
     "name": "stderr",
     "output_type": "stream",
     "text": [
      "[Stage 6:>                                                          (0 + 1) / 1]\r"
     ]
    },
    {
     "name": "stdout",
     "output_type": "stream",
     "text": [
      "The slowest run took 16.54 times longer than the fastest. This could mean that an intermediate result is being cached.\n",
      "1.02 s ± 782 ms per loop (mean ± std. dev. of 7 runs, 1 loop each)\n"
     ]
    },
    {
     "name": "stderr",
     "output_type": "stream",
     "text": [
      "                                                                                \r"
     ]
    }
   ],
   "source": [
    "%%timeit\n",
    "transactions_pq = ps.read_parquet('/user/HM_parquet/transactions_train.parquet')\n",
    "transactions_pq.head(20)"
   ]
  },
  {
   "cell_type": "code",
   "execution_count": 5,
   "id": "05a9bc60-d0e1-42f4-8c7e-8ac4a62855b6",
   "metadata": {},
   "outputs": [
    {
     "name": "stderr",
     "output_type": "stream",
     "text": [
      "[Stage 39:===================================================>      (8 + 1) / 9]\r"
     ]
    },
    {
     "name": "stdout",
     "output_type": "stream",
     "text": [
      "The slowest run took 4.76 times longer than the fastest. This could mean that an intermediate result is being cached.\n",
      "4.73 s ± 2.05 s per loop (mean ± std. dev. of 7 runs, 1 loop each)\n"
     ]
    },
    {
     "name": "stderr",
     "output_type": "stream",
     "text": [
      "                                                                                \r"
     ]
    }
   ],
   "source": [
    "%%timeit\n",
    "transactions_pqdf = spark.read.option('header','true').parquet('/user/HM_parquet/transactions_train.parquet')\n",
    "transactions_pqdf.head(20)"
   ]
  },
  {
   "cell_type": "markdown",
   "id": "0e764a9c-3066-4fd3-b48e-9c5b053f61b4",
   "metadata": {},
   "source": [
    "## hdfs csv (df較快)"
   ]
  },
  {
   "cell_type": "code",
   "execution_count": 6,
   "id": "3c7dd657-6b85-412e-acc7-8f325d2a2b2a",
   "metadata": {},
   "outputs": [
    {
     "name": "stderr",
     "output_type": "stream",
     "text": [
      "[Stage 55:=====================================================>  (25 + 1) / 26]\r"
     ]
    },
    {
     "name": "stdout",
     "output_type": "stream",
     "text": [
      "8.23 s ± 3.39 s per loop (mean ± std. dev. of 7 runs, 1 loop each)\n"
     ]
    },
    {
     "name": "stderr",
     "output_type": "stream",
     "text": [
      "                                                                                \r"
     ]
    }
   ],
   "source": [
    "%%timeit\n",
    "transactions_csv = ps.read_csv('/user/HM_csv/transactions_train.csv')\n",
    "transactions_csv.head(20)"
   ]
  },
  {
   "cell_type": "code",
   "execution_count": 7,
   "id": "c0e1271b-0f98-4d7e-97d2-6ab3dc458518",
   "metadata": {},
   "outputs": [
    {
     "name": "stdout",
     "output_type": "stream",
     "text": [
      "234 ms ± 70.1 ms per loop (mean ± std. dev. of 7 runs, 1 loop each)\n"
     ]
    }
   ],
   "source": [
    "%%timeit\n",
    "transactions_csvdf = spark.read.option('header','true').csv('/user/HM_csv/transactions_train.csv')\n",
    "transactions_csvdf.head(20)"
   ]
  },
  {
   "cell_type": "markdown",
   "id": "4ce70911-98c9-4ad6-bb07-b61574a76188",
   "metadata": {},
   "source": [
    "## mySQL (ps較快)"
   ]
  },
  {
   "cell_type": "code",
   "execution_count": 8,
   "id": "b519436f-ea67-4082-8761-aaf1a1300f25",
   "metadata": {},
   "outputs": [],
   "source": [
    "# mysql 配置(需要修改)\n",
    "prop = {'user': 'maggie',\n",
    "        'password': 'root',\n",
    "        'driver': 'com.mysql.cj.jdbc.Driver'}\n",
    "\n",
    "# database 地址(需要修改)\n",
    "url = 'jdbc:mysql://172.22.33.43:3306/HM?useUnicode=true&characterEncoding=UTF-8&serverTimezone=UTC'"
   ]
  },
  {
   "cell_type": "code",
   "execution_count": 9,
   "id": "567c5a20-1ef6-4c6b-bec3-3efed4dc9e78",
   "metadata": {},
   "outputs": [
    {
     "name": "stdout",
     "output_type": "stream",
     "text": [
      "108 ms ± 12.6 ms per loop (mean ± std. dev. of 7 runs, 1 loop each)\n"
     ]
    }
   ],
   "source": [
    "%%timeit\n",
    "articles_sql = ps.read_sql_table(table_name='articles',con=url,options=prop)\n",
    "articles_sql.head(20)"
   ]
  },
  {
   "cell_type": "code",
   "execution_count": 10,
   "id": "33d01d53-b490-4cba-85e3-a81a1a917e68",
   "metadata": {
    "tags": []
   },
   "outputs": [
    {
     "name": "stderr",
     "output_type": "stream",
     "text": [
      "                                                                                \r"
     ]
    },
    {
     "name": "stdout",
     "output_type": "stream",
     "text": [
      "986 ms ± 416 ms per loop (mean ± std. dev. of 7 runs, 1 loop each)\n"
     ]
    },
    {
     "name": "stderr",
     "output_type": "stream",
     "text": [
      "                                                                                \r"
     ]
    }
   ],
   "source": [
    "%%timeit\n",
    "articles_sqldf = spark.read.jdbc(url=url, table='articles', properties=prop)\n",
    "articles_sqldf.head(20)"
   ]
  },
  {
   "cell_type": "markdown",
   "id": "f45f0824-72aa-41be-9125-abf61765555e",
   "metadata": {
    "tags": []
   },
   "source": [
    "# mySQL vs ps.read_parquet (ps較快)"
   ]
  },
  {
   "cell_type": "code",
   "execution_count": 12,
   "id": "5d9c868d-b1ac-4f38-8928-61c9468412c9",
   "metadata": {
    "tags": []
   },
   "outputs": [
    {
     "name": "stderr",
     "output_type": "stream",
     "text": [
      "2022-03-10 17:46:46,581 WARN util.package: Truncated the string representation of a plan since it was too large. This behavior can be adjusted by setting 'spark.sql.debug.maxToStringFields'.\n",
      "                                                                                \r"
     ]
    },
    {
     "name": "stdout",
     "output_type": "stream",
     "text": [
      "800 ms ± 293 ms per loop (mean ± std. dev. of 7 runs, 1 loop each)\n"
     ]
    }
   ],
   "source": [
    "%%timeit\n",
    "articles_pq = ps.read_parquet('/user/HM_parquet/articles.parquet')\n",
    "articles_pq.count()"
   ]
  },
  {
   "cell_type": "code",
   "execution_count": 13,
   "id": "3e403783-ee4e-40c5-be12-25a4db44d575",
   "metadata": {},
   "outputs": [
    {
     "name": "stderr",
     "output_type": "stream",
     "text": [
      "[Stage 214:>                                                        (0 + 1) / 1]\r"
     ]
    },
    {
     "name": "stdout",
     "output_type": "stream",
     "text": [
      "1.55 s ± 521 ms per loop (mean ± std. dev. of 7 runs, 1 loop each)\n"
     ]
    },
    {
     "name": "stderr",
     "output_type": "stream",
     "text": [
      "2022-03-10 17:47:33,961 WARN nio.NioEventLoop: Selector.select() returned prematurely 512 times in a row; rebuilding Selector io.netty.channel.nio.SelectedSelectionKeySetSelector@21241b6c.\n",
      "2022-03-10 17:47:33,965 WARN nio.NioEventLoop: Selector.select() returned prematurely 512 times in a row; rebuilding Selector io.netty.channel.nio.SelectedSelectionKeySetSelector@f4079cc.\n",
      "2022-03-10 17:47:33,967 WARN nio.NioEventLoop: Selector.select() returned prematurely 512 times in a row; rebuilding Selector io.netty.channel.nio.SelectedSelectionKeySetSelector@61e0e45f.\n",
      "2022-03-10 17:47:33,969 WARN nio.NioEventLoop: Selector.select() returned prematurely 512 times in a row; rebuilding Selector io.netty.channel.nio.SelectedSelectionKeySetSelector@5e63d893.\n"
     ]
    }
   ],
   "source": [
    "%%timeit\n",
    "articles_sql = ps.read_sql_table(table_name='articles',con=url,options=prop)\n",
    "articles_sql.count()"
   ]
  }
 ],
 "metadata": {
  "kernelspec": {
   "display_name": "Python 3 (ipykernel)",
   "language": "python",
   "name": "python3"
  },
  "language_info": {
   "name": ""
  }
 },
 "nbformat": 4,
 "nbformat_minor": 5
}
