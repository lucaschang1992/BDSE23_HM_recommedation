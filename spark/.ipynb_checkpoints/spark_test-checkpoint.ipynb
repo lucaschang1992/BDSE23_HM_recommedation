{
 "cells": [
  {
   "cell_type": "code",
   "execution_count": 1,
   "id": "6c6c8c78-379a-4c6a-80c7-7835db989114",
   "metadata": {
    "tags": []
   },
   "outputs": [
    {
     "data": {
      "text/html": [
       "\n",
       "            <div>\n",
       "                <p><b>SparkSession - hive</b></p>\n",
       "                \n",
       "        <div>\n",
       "            <p><b>SparkContext</b></p>\n",
       "\n",
       "            <p><a href=\"http://bdse111.example.com:4040\">Spark UI</a></p>\n",
       "\n",
       "            <dl>\n",
       "              <dt>Version</dt>\n",
       "                <dd><code>v3.2.1</code></dd>\n",
       "              <dt>Master</dt>\n",
       "                <dd><code>yarn</code></dd>\n",
       "              <dt>AppName</dt>\n",
       "                <dd><code>maggie</code></dd>\n",
       "            </dl>\n",
       "        </div>\n",
       "        \n",
       "            </div>\n",
       "        "
      ],
      "text/plain": [
       "<pyspark.sql.session.SparkSession at 0x7ff705277850>"
      ]
     },
     "execution_count": 1,
     "metadata": {},
     "output_type": "execute_result"
    }
   ],
   "source": [
    "spark"
   ]
  },
  {
   "cell_type": "code",
   "execution_count": 2,
   "id": "82ab6720-000c-4e9e-9a90-e4f741153abb",
   "metadata": {},
   "outputs": [],
   "source": [
    "spark.conf.set(\"spark.sql.execution.arrow.pyspark.enabled\", True)"
   ]
  },
  {
   "cell_type": "code",
   "execution_count": 3,
   "id": "f6203be2-feb7-4c44-a92a-8fe3c2c842c0",
   "metadata": {},
   "outputs": [],
   "source": [
    "import pyspark.pandas as ps"
   ]
  },
  {
   "cell_type": "code",
   "execution_count": 4,
   "id": "b7090799-c266-4c27-b897-dd423642e1c8",
   "metadata": {},
   "outputs": [],
   "source": [
    "ps.set_option(\"compute.default_index_type\", \"distributed\")"
   ]
  },
  {
   "cell_type": "markdown",
   "id": "93e8d468-a25c-4f7e-9c6b-ee23dd547f26",
   "metadata": {},
   "source": [
    "# 讀取速度: DataFrame vs Pyspark.pandas"
   ]
  },
  {
   "cell_type": "code",
   "execution_count": null,
   "id": "d8562d10-c782-4cff-8db7-5674e24c2876",
   "metadata": {},
   "outputs": [],
   "source": [
    "# DataFrame\n",
    "transactions_df = spark.read.option('header','true').parquet('/user/HM_parquet/transactions_train.parquet')\n",
    "# pyspark.pandas\n",
    "transactions_ps = ps.read_parquet('/user/HM_parquet/transactions_train.parquet')"
   ]
  },
  {
   "cell_type": "code",
   "execution_count": null,
   "id": "49381f25-86e6-4665-8157-4e71c6b9a3ba",
   "metadata": {},
   "outputs": [],
   "source": [
    "%%timeit\n",
    "transactions_df.head(10)"
   ]
  },
  {
   "cell_type": "code",
   "execution_count": null,
   "id": "bd6ae909-7272-4290-a216-c321bda9daa2",
   "metadata": {},
   "outputs": [],
   "source": [
    "%%timeit\n",
    "transactions_ps.head(10)"
   ]
  },
  {
   "cell_type": "markdown",
   "id": "896ce376-573e-4036-bb8f-03d7429bdf33",
   "metadata": {},
   "source": [
    "# 讀取速度: csv/parquet/mysql"
   ]
  },
  {
   "cell_type": "markdown",
   "id": "2941e71b-e0d1-421c-a6d0-1f5da53e5ac9",
   "metadata": {},
   "source": [
    "## hdfs parquet (ps較快)"
   ]
  },
  {
   "cell_type": "code",
   "execution_count": 4,
   "id": "033d52e6-8472-4b29-82e1-dc3b3be7f05a",
   "metadata": {
    "tags": []
   },
   "outputs": [
    {
     "name": "stderr",
     "output_type": "stream",
     "text": [
      "[Stage 6:>                                                          (0 + 1) / 1]\r"
     ]
    },
    {
     "name": "stdout",
     "output_type": "stream",
     "text": [
      "The slowest run took 16.54 times longer than the fastest. This could mean that an intermediate result is being cached.\n",
      "1.02 s ± 782 ms per loop (mean ± std. dev. of 7 runs, 1 loop each)\n"
     ]
    },
    {
     "name": "stderr",
     "output_type": "stream",
     "text": [
      "                                                                                \r"
     ]
    }
   ],
   "source": [
    "%%timeit\n",
    "transactions_pq = ps.read_parquet('/user/HM_parquet/transactions_train.parquet')\n",
    "transactions_pq.head(20)"
   ]
  },
  {
   "cell_type": "code",
   "execution_count": 5,
   "id": "05a9bc60-d0e1-42f4-8c7e-8ac4a62855b6",
   "metadata": {},
   "outputs": [
    {
     "name": "stderr",
     "output_type": "stream",
     "text": [
      "[Stage 39:===================================================>      (8 + 1) / 9]\r"
     ]
    },
    {
     "name": "stdout",
     "output_type": "stream",
     "text": [
      "The slowest run took 4.76 times longer than the fastest. This could mean that an intermediate result is being cached.\n",
      "4.73 s ± 2.05 s per loop (mean ± std. dev. of 7 runs, 1 loop each)\n"
     ]
    },
    {
     "name": "stderr",
     "output_type": "stream",
     "text": [
      "                                                                                \r"
     ]
    }
   ],
   "source": [
    "%%timeit\n",
    "transactions_pqdf = spark.read.option('header','true').parquet('/user/HM_parquet/transactions_train.parquet')\n",
    "transactions_pqdf.head(20)"
   ]
  },
  {
   "cell_type": "markdown",
   "id": "0e764a9c-3066-4fd3-b48e-9c5b053f61b4",
   "metadata": {},
   "source": [
    "## hdfs csv (df較快)"
   ]
  },
  {
   "cell_type": "code",
   "execution_count": 6,
   "id": "3c7dd657-6b85-412e-acc7-8f325d2a2b2a",
   "metadata": {},
   "outputs": [
    {
     "name": "stderr",
     "output_type": "stream",
     "text": [
      "[Stage 55:=====================================================>  (25 + 1) / 26]\r"
     ]
    },
    {
     "name": "stdout",
     "output_type": "stream",
     "text": [
      "8.23 s ± 3.39 s per loop (mean ± std. dev. of 7 runs, 1 loop each)\n"
     ]
    },
    {
     "name": "stderr",
     "output_type": "stream",
     "text": [
      "                                                                                \r"
     ]
    }
   ],
   "source": [
    "%%timeit\n",
    "transactions_csv = ps.read_csv('/user/HM_csv/transactions_train.csv')\n",
    "transactions_csv.head(20)"
   ]
  },
  {
   "cell_type": "code",
   "execution_count": 7,
   "id": "c0e1271b-0f98-4d7e-97d2-6ab3dc458518",
   "metadata": {},
   "outputs": [
    {
     "name": "stdout",
     "output_type": "stream",
     "text": [
      "234 ms ± 70.1 ms per loop (mean ± std. dev. of 7 runs, 1 loop each)\n"
     ]
    }
   ],
   "source": [
    "%%timeit\n",
    "transactions_csvdf = spark.read.option('header','true').csv('/user/HM_csv/transactions_train.csv')\n",
    "transactions_csvdf.head(20)"
   ]
  },
  {
   "cell_type": "markdown",
   "id": "4ce70911-98c9-4ad6-bb07-b61574a76188",
   "metadata": {},
   "source": [
    "## mySQL (ps較快)"
   ]
  },
  {
   "cell_type": "code",
   "execution_count": 5,
   "id": "b519436f-ea67-4082-8761-aaf1a1300f25",
   "metadata": {},
   "outputs": [],
   "source": [
    "# mysql 配置(需要修改)\n",
    "prop = {'user': 'maggie',\n",
    "        'password': 'root',\n",
    "        'driver': 'com.mysql.cj.jdbc.Driver',\n",
    "        \"numPartitions\":30,\n",
    "        \"partitionColumn\":\"article_id\",\n",
    "        \"lowerBound\": \"108000000\",\n",
    "        \"upperBound\":\"960000000\",\n",
    "        \"dbtable\": \"(select article_id, prod_name from articles) as article_less\"}\n",
    "\n",
    "# database 地址(需要修改)\n",
    "url = 'jdbc:mysql://172.22.33.44:3306/HM?useUnicode=true&characterEncoding=UTF-8&serverTimezone=UTC'"
   ]
  },
  {
   "cell_type": "code",
   "execution_count": 11,
   "id": "567c5a20-1ef6-4c6b-bec3-3efed4dc9e78",
   "metadata": {},
   "outputs": [
    {
     "name": "stderr",
     "output_type": "stream",
     "text": [
      "                                                                                \r"
     ]
    },
    {
     "data": {
      "text/html": [
       "<div>\n",
       "<style scoped>\n",
       "    .dataframe tbody tr th:only-of-type {\n",
       "        vertical-align: middle;\n",
       "    }\n",
       "\n",
       "    .dataframe tbody tr th {\n",
       "        vertical-align: top;\n",
       "    }\n",
       "\n",
       "    .dataframe thead th {\n",
       "        text-align: right;\n",
       "    }\n",
       "</style>\n",
       "<table border=\"1\" class=\"dataframe\">\n",
       "  <thead>\n",
       "    <tr style=\"text-align: right;\">\n",
       "      <th></th>\n",
       "      <th>article_id</th>\n",
       "      <th>prod_name</th>\n",
       "    </tr>\n",
       "  </thead>\n",
       "  <tbody>\n",
       "    <tr>\n",
       "      <th>0</th>\n",
       "      <td>108775015</td>\n",
       "      <td>Strap top</td>\n",
       "    </tr>\n",
       "    <tr>\n",
       "      <th>1</th>\n",
       "      <td>108775044</td>\n",
       "      <td>Strap top</td>\n",
       "    </tr>\n",
       "    <tr>\n",
       "      <th>2</th>\n",
       "      <td>108775051</td>\n",
       "      <td>Strap top (1)</td>\n",
       "    </tr>\n",
       "    <tr>\n",
       "      <th>3</th>\n",
       "      <td>110065001</td>\n",
       "      <td>OP T-shirt (Idro)</td>\n",
       "    </tr>\n",
       "    <tr>\n",
       "      <th>4</th>\n",
       "      <td>110065002</td>\n",
       "      <td>OP T-shirt (Idro)</td>\n",
       "    </tr>\n",
       "  </tbody>\n",
       "</table>\n",
       "</div>"
      ],
      "text/plain": [
       "   article_id          prod_name\n",
       "0   108775015          Strap top\n",
       "1   108775044          Strap top\n",
       "2   108775051      Strap top (1)\n",
       "3   110065001  OP T-shirt (Idro)\n",
       "4   110065002  OP T-shirt (Idro)"
      ]
     },
     "execution_count": 11,
     "metadata": {},
     "output_type": "execute_result"
    },
    {
     "name": "stderr",
     "output_type": "stream",
     "text": [
      "[Stage 0:======================================================>(199 + 1) / 200]\r"
     ]
    }
   ],
   "source": [
    "articles_sql = ps.read_sql('article_less',con=url,options=prop)\n",
    "articles_sql.head(5)"
   ]
  },
  {
   "cell_type": "code",
   "execution_count": null,
   "id": "5736ee51-a461-4a69-b4bb-b1044f6ea7d3",
   "metadata": {},
   "outputs": [],
   "source": [
    "del articles_sql"
   ]
  },
  {
   "cell_type": "code",
   "execution_count": 8,
   "id": "fa4e95a4-1e21-434f-a5e3-219de3159bd8",
   "metadata": {},
   "outputs": [],
   "source": [
    "prop = {'user': 'maggie',\n",
    "        'password': 'root',\n",
    "        'driver': 'com.mysql.cj.jdbc.Driver',\n",
    "        \"numPartitions\":50,\n",
    "        \"partitionColumn\":\"t_dat\",\n",
    "        \"lowerBound\": \"2018-09-19\",\n",
    "        \"upperBound\":\"2020-09-23\",\n",
    "        \"dbtable\": \"(select t_dat, customer_id, article_id from transactions_train) as transactions\"}\n",
    "\n",
    "# database 地址(需要修改)\n",
    "url = 'jdbc:mysql://172.22.33.44:3306/HM?useUnicode=true&characterEncoding=UTF-8&serverTimezone=UTC'\n",
    "\n",
    "transactions_sql = ps.read_sql(\"transactions\",con=url,options=prop)"
   ]
  },
  {
   "cell_type": "code",
   "execution_count": 9,
   "id": "f8349a05-567a-469b-b17f-4080e639780a",
   "metadata": {},
   "outputs": [
    {
     "name": "stderr",
     "output_type": "stream",
     "text": [
      "                                                                                \r"
     ]
    },
    {
     "data": {
      "text/html": [
       "<div>\n",
       "<style scoped>\n",
       "    .dataframe tbody tr th:only-of-type {\n",
       "        vertical-align: middle;\n",
       "    }\n",
       "\n",
       "    .dataframe tbody tr th {\n",
       "        vertical-align: top;\n",
       "    }\n",
       "\n",
       "    .dataframe thead th {\n",
       "        text-align: right;\n",
       "    }\n",
       "</style>\n",
       "<table border=\"1\" class=\"dataframe\">\n",
       "  <thead>\n",
       "    <tr style=\"text-align: right;\">\n",
       "      <th></th>\n",
       "      <th>t_dat</th>\n",
       "      <th>customer_id</th>\n",
       "      <th>article_id</th>\n",
       "    </tr>\n",
       "  </thead>\n",
       "  <tbody>\n",
       "    <tr>\n",
       "      <th>25769803776</th>\n",
       "      <td>2018-11-18</td>\n",
       "      <td>00023182883c3d537185d3e2d8ec2cb20bd4732f386941...</td>\n",
       "      <td>687331005</td>\n",
       "    </tr>\n",
       "    <tr>\n",
       "      <th>25769803777</th>\n",
       "      <td>2018-11-18</td>\n",
       "      <td>00023182883c3d537185d3e2d8ec2cb20bd4732f386941...</td>\n",
       "      <td>662888002</td>\n",
       "    </tr>\n",
       "    <tr>\n",
       "      <th>25769803778</th>\n",
       "      <td>2018-11-18</td>\n",
       "      <td>00023182883c3d537185d3e2d8ec2cb20bd4732f386941...</td>\n",
       "      <td>687720001</td>\n",
       "    </tr>\n",
       "    <tr>\n",
       "      <th>25769803779</th>\n",
       "      <td>2018-11-18</td>\n",
       "      <td>00023182883c3d537185d3e2d8ec2cb20bd4732f386941...</td>\n",
       "      <td>561814002</td>\n",
       "    </tr>\n",
       "    <tr>\n",
       "      <th>25769803780</th>\n",
       "      <td>2018-11-18</td>\n",
       "      <td>00023182883c3d537185d3e2d8ec2cb20bd4732f386941...</td>\n",
       "      <td>659204001</td>\n",
       "    </tr>\n",
       "  </tbody>\n",
       "</table>\n",
       "</div>"
      ],
      "text/plain": [
       "                  t_dat                                                       customer_id  article_id\n",
       "25769803776  2018-11-18  00023182883c3d537185d3e2d8ec2cb20bd4732f3869416f321d662c4fac7187   687331005\n",
       "25769803777  2018-11-18  00023182883c3d537185d3e2d8ec2cb20bd4732f3869416f321d662c4fac7187   662888002\n",
       "25769803778  2018-11-18  00023182883c3d537185d3e2d8ec2cb20bd4732f3869416f321d662c4fac7187   687720001\n",
       "25769803779  2018-11-18  00023182883c3d537185d3e2d8ec2cb20bd4732f3869416f321d662c4fac7187   561814002\n",
       "25769803780  2018-11-18  00023182883c3d537185d3e2d8ec2cb20bd4732f3869416f321d662c4fac7187   659204001"
      ]
     },
     "execution_count": 9,
     "metadata": {},
     "output_type": "execute_result"
    }
   ],
   "source": [
    "transactions_sql.head(5)"
   ]
  },
  {
   "cell_type": "code",
   "execution_count": 11,
   "id": "33d01d53-b490-4cba-85e3-a81a1a917e68",
   "metadata": {
    "tags": []
   },
   "outputs": [
    {
     "name": "stderr",
     "output_type": "stream",
     "text": [
      "2022-03-15 13:00:36,399 WARN spark.HeartbeatReceiver: Removing executor 6 with no recent heartbeats: 137487 ms exceeds timeout 120000 ms\n",
      "2022-03-15 13:00:36,406 ERROR cluster.YarnScheduler: Lost executor 6 on bdse90.example.com: Executor heartbeat timed out after 137487 ms\n",
      "2022-03-15 13:00:36,406 WARN scheduler.TaskSetManager: Lost task 0.0 in stage 4.0 (TID 4) (bdse90.example.com executor 6): ExecutorLostFailure (executor 6 exited caused by one of the running tasks) Reason: Executor heartbeat timed out after 137487 ms\n",
      "2022-03-15 13:00:36,406 WARN scheduler.TaskSetManager: Lost task 0.0 in stage 6.0 (TID 6) (bdse90.example.com executor 6): ExecutorLostFailure (executor 6 exited caused by one of the running tasks) Reason: Executor heartbeat timed out after 137487 ms\n",
      "                                                                                \r"
     ]
    },
    {
     "data": {
      "text/plain": [
       "[Row(article_id='0108775015', product_code='0108775', prod_name='Strap top', product_type_no='253', product_type_name='Vest top', product_group_name='Garment Upper body', graphical_appearance_no='1010016', graphical_appearance_name='Solid', colour_group_code='09', colour_group_name='Black', perceived_colour_value_id='4', perceived_colour_value_name='Dark', perceived_colour_master_id='5', perceived_colour_master_name='Black', department_no='1676', department_name='Jersey Basic', index_code='A', index_name='Ladieswear', index_group_no='1', index_group_name='Ladieswear', section_no='16', section_name='Womens Everyday Basics', garment_group_no='1002', garment_group_name='Jersey Basic', detail_desc='Jersey top with narrow shoulder straps.'),\n",
       " Row(article_id='0108775044', product_code='0108775', prod_name='Strap top', product_type_no='253', product_type_name='Vest top', product_group_name='Garment Upper body', graphical_appearance_no='1010016', graphical_appearance_name='Solid', colour_group_code='10', colour_group_name='White', perceived_colour_value_id='3', perceived_colour_value_name='Light', perceived_colour_master_id='9', perceived_colour_master_name='White', department_no='1676', department_name='Jersey Basic', index_code='A', index_name='Ladieswear', index_group_no='1', index_group_name='Ladieswear', section_no='16', section_name='Womens Everyday Basics', garment_group_no='1002', garment_group_name='Jersey Basic', detail_desc='Jersey top with narrow shoulder straps.'),\n",
       " Row(article_id='0108775051', product_code='0108775', prod_name='Strap top (1)', product_type_no='253', product_type_name='Vest top', product_group_name='Garment Upper body', graphical_appearance_no='1010017', graphical_appearance_name='Stripe', colour_group_code='11', colour_group_name='Off White', perceived_colour_value_id='1', perceived_colour_value_name='Dusty Light', perceived_colour_master_id='9', perceived_colour_master_name='White', department_no='1676', department_name='Jersey Basic', index_code='A', index_name='Ladieswear', index_group_no='1', index_group_name='Ladieswear', section_no='16', section_name='Womens Everyday Basics', garment_group_no='1002', garment_group_name='Jersey Basic', detail_desc='Jersey top with narrow shoulder straps.'),\n",
       " Row(article_id='0110065001', product_code='0110065', prod_name='OP T-shirt (Idro)', product_type_no='306', product_type_name='Bra', product_group_name='Underwear', graphical_appearance_no='1010016', graphical_appearance_name='Solid', colour_group_code='09', colour_group_name='Black', perceived_colour_value_id='4', perceived_colour_value_name='Dark', perceived_colour_master_id='5', perceived_colour_master_name='Black', department_no='1339', department_name='Clean Lingerie', index_code='B', index_name='Lingeries/Tights', index_group_no='1', index_group_name='Ladieswear', section_no='61', section_name='Womens Lingerie', garment_group_no='1017', garment_group_name='\"Under-', detail_desc=' Nightwear\"'),\n",
       " Row(article_id='0110065002', product_code='0110065', prod_name='OP T-shirt (Idro)', product_type_no='306', product_type_name='Bra', product_group_name='Underwear', graphical_appearance_no='1010016', graphical_appearance_name='Solid', colour_group_code='10', colour_group_name='White', perceived_colour_value_id='3', perceived_colour_value_name='Light', perceived_colour_master_id='9', perceived_colour_master_name='White', department_no='1339', department_name='Clean Lingerie', index_code='B', index_name='Lingeries/Tights', index_group_no='1', index_group_name='Ladieswear', section_no='61', section_name='Womens Lingerie', garment_group_no='1017', garment_group_name='\"Under-', detail_desc=' Nightwear\"'),\n",
       " Row(article_id='0110065011', product_code='0110065', prod_name='OP T-shirt (Idro)', product_type_no='306', product_type_name='Bra', product_group_name='Underwear', graphical_appearance_no='1010016', graphical_appearance_name='Solid', colour_group_code='12', colour_group_name='Light Beige', perceived_colour_value_id='1', perceived_colour_value_name='Dusty Light', perceived_colour_master_id='11', perceived_colour_master_name='Beige', department_no='1339', department_name='Clean Lingerie', index_code='B', index_name='Lingeries/Tights', index_group_no='1', index_group_name='Ladieswear', section_no='61', section_name='Womens Lingerie', garment_group_no='1017', garment_group_name='\"Under-', detail_desc=' Nightwear\"'),\n",
       " Row(article_id='0111565001', product_code='0111565', prod_name='20 den 1p Stockings', product_type_no='304', product_type_name='Underwear Tights', product_group_name='Socks & Tights', graphical_appearance_no='1010016', graphical_appearance_name='Solid', colour_group_code='09', colour_group_name='Black', perceived_colour_value_id='4', perceived_colour_value_name='Dark', perceived_colour_master_id='5', perceived_colour_master_name='Black', department_no='3608', department_name='Tights basic', index_code='B', index_name='Lingeries/Tights', index_group_no='1', index_group_name='Ladieswear', section_no='62', section_name='\"Womens Nightwear', garment_group_no=' Socks & Tigh\"', garment_group_name='1021', detail_desc='Socks and Tights'),\n",
       " Row(article_id='0111565003', product_code='0111565', prod_name='20 den 1p Stockings', product_type_no='302', product_type_name='Socks', product_group_name='Socks & Tights', graphical_appearance_no='1010016', graphical_appearance_name='Solid', colour_group_code='13', colour_group_name='Beige', perceived_colour_value_id='2', perceived_colour_value_name='Medium Dusty', perceived_colour_master_id='11', perceived_colour_master_name='Beige', department_no='3608', department_name='Tights basic', index_code='B', index_name='Lingeries/Tights', index_group_no='1', index_group_name='Ladieswear', section_no='62', section_name='\"Womens Nightwear', garment_group_no=' Socks & Tigh\"', garment_group_name='1021', detail_desc='Socks and Tights'),\n",
       " Row(article_id='0111586001', product_code='0111586', prod_name='Shape Up 30 den 1p Tights', product_type_no='273', product_type_name='Leggings/Tights', product_group_name='Garment Lower body', graphical_appearance_no='1010016', graphical_appearance_name='Solid', colour_group_code='09', colour_group_name='Black', perceived_colour_value_id='4', perceived_colour_value_name='Dark', perceived_colour_master_id='5', perceived_colour_master_name='Black', department_no='3608', department_name='Tights basic', index_code='B', index_name='Lingeries/Tights', index_group_no='1', index_group_name='Ladieswear', section_no='62', section_name='\"Womens Nightwear', garment_group_no=' Socks & Tigh\"', garment_group_name='1021', detail_desc='Socks and Tights'),\n",
       " Row(article_id='0111593001', product_code='0111593', prod_name='Support 40 den 1p Tights', product_type_no='304', product_type_name='Underwear Tights', product_group_name='Socks & Tights', graphical_appearance_no='1010016', graphical_appearance_name='Solid', colour_group_code='09', colour_group_name='Black', perceived_colour_value_id='4', perceived_colour_value_name='Dark', perceived_colour_master_id='5', perceived_colour_master_name='Black', department_no='3608', department_name='Tights basic', index_code='B', index_name='Lingeries/Tights', index_group_no='1', index_group_name='Ladieswear', section_no='62', section_name='\"Womens Nightwear', garment_group_no=' Socks & Tigh\"', garment_group_name='1021', detail_desc='Socks and Tights'),\n",
       " Row(article_id='0111609001', product_code='0111609', prod_name='200 den 1p Tights', product_type_no='304', product_type_name='Underwear Tights', product_group_name='Socks & Tights', graphical_appearance_no='1010016', graphical_appearance_name='Solid', colour_group_code='09', colour_group_name='Black', perceived_colour_value_id='4', perceived_colour_value_name='Dark', perceived_colour_master_id='5', perceived_colour_master_name='Black', department_no='3608', department_name='Tights basic', index_code='B', index_name='Lingeries/Tights', index_group_no='1', index_group_name='Ladieswear', section_no='62', section_name='\"Womens Nightwear', garment_group_no=' Socks & Tigh\"', garment_group_name='1021', detail_desc='Socks and Tights'),\n",
       " Row(article_id='0112679048', product_code='0112679', prod_name='SWEATSHIRT  OC', product_type_no='252', product_type_name='Sweater', product_group_name='Garment Upper body', graphical_appearance_no='1010001', graphical_appearance_name='All over pattern', colour_group_code='07', colour_group_name='Grey', perceived_colour_value_id='1', perceived_colour_value_name='Dusty Light', perceived_colour_master_id='12', perceived_colour_master_name='Grey', department_no='6515', department_name='Baby basics', index_code='G', index_name='Baby Sizes 50-98', index_group_no='4', index_group_name='Baby/Children', section_no='44', section_name='Baby Essentials & Complements', garment_group_no='1002', garment_group_name='Jersey Basic', detail_desc='Sweatshirt in soft organic cotton with a  press-stud on one shoulder (sizes 12-18 months and 18-24 months without a press-stud). Brushed inside.'),\n",
       " Row(article_id='0112679052', product_code='0112679', prod_name='SWEATSHIRT  OC', product_type_no='252', product_type_name='Sweater', product_group_name='Garment Upper body', graphical_appearance_no='1010001', graphical_appearance_name='All over pattern', colour_group_code='71', colour_group_name='Light Blue', perceived_colour_value_id='1', perceived_colour_value_name='Dusty Light', perceived_colour_master_id='2', perceived_colour_master_name='Blue', department_no='6515', department_name='Baby basics', index_code='G', index_name='Baby Sizes 50-98', index_group_no='4', index_group_name='Baby/Children', section_no='44', section_name='Baby Essentials & Complements', garment_group_no='1002', garment_group_name='Jersey Basic', detail_desc='Sweatshirt in soft organic cotton with a  press-stud on one shoulder (sizes 12-18 months and 18-24 months without a press-stud). Brushed inside.'),\n",
       " Row(article_id='0114428026', product_code='0114428', prod_name='Alice BANDEAU 2-p', product_type_no='306', product_type_name='Bra', product_group_name='Underwear', graphical_appearance_no='1010017', graphical_appearance_name='Stripe', colour_group_code='10', colour_group_name='White', perceived_colour_value_id='3', perceived_colour_value_name='Light', perceived_colour_master_id='9', perceived_colour_master_name='White', department_no='1334', department_name='Casual Lingerie', index_code='B', index_name='Lingeries/Tights', index_group_no='1', index_group_name='Ladieswear', section_no='61', section_name='Womens Lingerie', garment_group_no='1017', garment_group_name='\"Under-', detail_desc=' Nightwear\"'),\n",
       " Row(article_id='0114428030', product_code='0114428', prod_name='Alice BANDEAU 2-p', product_type_no='306', product_type_name='Bra', product_group_name='Underwear', graphical_appearance_no='1010016', graphical_appearance_name='Solid', colour_group_code='06', colour_group_name='Light Grey', perceived_colour_value_id='1', perceived_colour_value_name='Dusty Light', perceived_colour_master_id='12', perceived_colour_master_name='Grey', department_no='1334', department_name='Casual Lingerie', index_code='B', index_name='Lingeries/Tights', index_group_no='1', index_group_name='Ladieswear', section_no='61', section_name='Womens Lingerie', garment_group_no='1017', garment_group_name='\"Under-', detail_desc=' Nightwear\"'),\n",
       " Row(article_id='0116379047', product_code='0116379', prod_name='Frugan longsleeve', product_type_no='254', product_type_name='Top', product_group_name='Garment Upper body', graphical_appearance_no='1010016', graphical_appearance_name='Solid', colour_group_code='73', colour_group_name='Dark Blue', perceived_colour_value_id='4', perceived_colour_value_name='Dark', perceived_colour_master_id='2', perceived_colour_master_name='Blue', department_no='1676', department_name='Jersey Basic', index_code='A', index_name='Ladieswear', index_group_no='1', index_group_name='Ladieswear', section_no='16', section_name='Womens Everyday Basics', garment_group_no='1002', garment_group_name='Jersey Basic', detail_desc='Fitted top in soft stretch jersey with a wide neckline and long sleeves.'),\n",
       " Row(article_id='0118458003', product_code='0118458', prod_name='Jerry jogger bottoms', product_type_no='272', product_type_name='Trousers', product_group_name='Garment Lower body', graphical_appearance_no='1010010', graphical_appearance_name='Melange', colour_group_code='08', colour_group_name='Dark Grey', perceived_colour_value_id='4', perceived_colour_value_name='Dark', perceived_colour_master_id='12', perceived_colour_master_name='Grey', department_no='5883', department_name='Jersey Basic', index_code='F', index_name='Menswear', index_group_no='3', index_group_name='Menswear', section_no='26', section_name='Men Underwear', garment_group_no='1002', garment_group_name='Jersey Basic', detail_desc='\"Trousers in sweatshirt fabric with an elasticated drawstring waist'),\n",
       " Row(article_id='0118458004', product_code='0118458', prod_name='Jerry jogger bottoms', product_type_no='272', product_type_name='Trousers', product_group_name='Garment Lower body', graphical_appearance_no='1010010', graphical_appearance_name='Melange', colour_group_code='07', colour_group_name='Grey', perceived_colour_value_id='2', perceived_colour_value_name='Medium Dusty', perceived_colour_master_id='12', perceived_colour_master_name='Grey', department_no='5883', department_name='Jersey Basic', index_code='F', index_name='Menswear', index_group_no='3', index_group_name='Menswear', section_no='26', section_name='Men Underwear', garment_group_no='1002', garment_group_name='Jersey Basic', detail_desc='\"Trousers in sweatshirt fabric with an elasticated drawstring waist'),\n",
       " Row(article_id='0118458028', product_code='0118458', prod_name='Jerry jogger bottoms', product_type_no='272', product_type_name='Trousers', product_group_name='Garment Lower body', graphical_appearance_no='1010016', graphical_appearance_name='Solid', colour_group_code='09', colour_group_name='Black', perceived_colour_value_id='4', perceived_colour_value_name='Dark', perceived_colour_master_id='5', perceived_colour_master_name='Black', department_no='5883', department_name='Jersey Basic', index_code='F', index_name='Menswear', index_group_no='3', index_group_name='Menswear', section_no='26', section_name='Men Underwear', garment_group_no='1002', garment_group_name='Jersey Basic', detail_desc='\"Trousers in sweatshirt fabric with an elasticated drawstring waist'),\n",
       " Row(article_id='0118458029', product_code='0118458', prod_name='Jerry jogger bottoms', product_type_no='272', product_type_name='Trousers', product_group_name='Garment Lower body', graphical_appearance_no='1010010', graphical_appearance_name='Melange', colour_group_code='08', colour_group_name='Dark Grey', perceived_colour_value_id='4', perceived_colour_value_name='Dark', perceived_colour_master_id='12', perceived_colour_master_name='Grey', department_no='5883', department_name='Jersey Basic', index_code='F', index_name='Menswear', index_group_no='3', index_group_name='Menswear', section_no='26', section_name='Men Underwear', garment_group_no='1002', garment_group_name='Jersey Basic', detail_desc='\"Trousers in sweatshirt fabric with an elasticated drawstring waist')]"
      ]
     },
     "execution_count": 11,
     "metadata": {},
     "output_type": "execute_result"
    },
    {
     "name": "stderr",
     "output_type": "stream",
     "text": [
      "2022-03-15 13:00:40,006 WARN server.TransportChannelHandler: Exception in connection from /172.22.33.90:36008\n",
      "java.io.IOException: Connection reset by peer\n",
      "\tat sun.nio.ch.FileDispatcherImpl.read0(Native Method)\n",
      "\tat sun.nio.ch.SocketDispatcher.read(SocketDispatcher.java:39)\n",
      "\tat sun.nio.ch.IOUtil.readIntoNativeBuffer(IOUtil.java:223)\n",
      "\tat sun.nio.ch.IOUtil.read(IOUtil.java:192)\n",
      "\tat sun.nio.ch.SocketChannelImpl.read(SocketChannelImpl.java:379)\n",
      "\tat io.netty.buffer.PooledByteBuf.setBytes(PooledByteBuf.java:253)\n",
      "\tat io.netty.buffer.AbstractByteBuf.writeBytes(AbstractByteBuf.java:1132)\n",
      "\tat io.netty.channel.socket.nio.NioSocketChannel.doReadBytes(NioSocketChannel.java:350)\n",
      "\tat io.netty.channel.nio.AbstractNioByteChannel$NioByteUnsafe.read(AbstractNioByteChannel.java:151)\n",
      "\tat io.netty.channel.nio.NioEventLoop.processSelectedKey(NioEventLoop.java:719)\n",
      "\tat io.netty.channel.nio.NioEventLoop.processSelectedKeysOptimized(NioEventLoop.java:655)\n",
      "\tat io.netty.channel.nio.NioEventLoop.processSelectedKeys(NioEventLoop.java:581)\n",
      "\tat io.netty.channel.nio.NioEventLoop.run(NioEventLoop.java:493)\n",
      "\tat io.netty.util.concurrent.SingleThreadEventExecutor$4.run(SingleThreadEventExecutor.java:986)\n",
      "\tat io.netty.util.internal.ThreadExecutorMap$2.run(ThreadExecutorMap.java:74)\n",
      "\tat io.netty.util.concurrent.FastThreadLocalRunnable.run(FastThreadLocalRunnable.java:30)\n",
      "\tat java.lang.Thread.run(Thread.java:748)\n"
     ]
    }
   ],
   "source": [
    "articles_sqldf = spark.read.jdbc(url=url, table='articles', properties=prop)\n",
    "articles_sqldf.head(20)"
   ]
  },
  {
   "cell_type": "markdown",
   "id": "f45f0824-72aa-41be-9125-abf61765555e",
   "metadata": {
    "tags": []
   },
   "source": [
    "# mySQL vs ps.read_parquet (ps較快)"
   ]
  },
  {
   "cell_type": "code",
   "execution_count": 12,
   "id": "5d9c868d-b1ac-4f38-8928-61c9468412c9",
   "metadata": {
    "tags": []
   },
   "outputs": [
    {
     "name": "stderr",
     "output_type": "stream",
     "text": [
      "2022-03-10 17:46:46,581 WARN util.package: Truncated the string representation of a plan since it was too large. This behavior can be adjusted by setting 'spark.sql.debug.maxToStringFields'.\n",
      "                                                                                \r"
     ]
    },
    {
     "name": "stdout",
     "output_type": "stream",
     "text": [
      "800 ms ± 293 ms per loop (mean ± std. dev. of 7 runs, 1 loop each)\n"
     ]
    }
   ],
   "source": [
    "%%timeit\n",
    "articles_pq = ps.read_parquet('/user/HM_parquet/articles.parquet')\n",
    "articles_pq.count()"
   ]
  },
  {
   "cell_type": "code",
   "execution_count": 13,
   "id": "3e403783-ee4e-40c5-be12-25a4db44d575",
   "metadata": {},
   "outputs": [
    {
     "name": "stderr",
     "output_type": "stream",
     "text": [
      "[Stage 214:>                                                        (0 + 1) / 1]\r"
     ]
    },
    {
     "name": "stdout",
     "output_type": "stream",
     "text": [
      "1.55 s ± 521 ms per loop (mean ± std. dev. of 7 runs, 1 loop each)\n"
     ]
    },
    {
     "name": "stderr",
     "output_type": "stream",
     "text": [
      "2022-03-10 17:47:33,961 WARN nio.NioEventLoop: Selector.select() returned prematurely 512 times in a row; rebuilding Selector io.netty.channel.nio.SelectedSelectionKeySetSelector@21241b6c.\n",
      "2022-03-10 17:47:33,965 WARN nio.NioEventLoop: Selector.select() returned prematurely 512 times in a row; rebuilding Selector io.netty.channel.nio.SelectedSelectionKeySetSelector@f4079cc.\n",
      "2022-03-10 17:47:33,967 WARN nio.NioEventLoop: Selector.select() returned prematurely 512 times in a row; rebuilding Selector io.netty.channel.nio.SelectedSelectionKeySetSelector@61e0e45f.\n",
      "2022-03-10 17:47:33,969 WARN nio.NioEventLoop: Selector.select() returned prematurely 512 times in a row; rebuilding Selector io.netty.channel.nio.SelectedSelectionKeySetSelector@5e63d893.\n"
     ]
    }
   ],
   "source": [
    "%%timeit\n",
    "articles_sql = ps.read_sql_table(table_name='articles',con=url,options=prop)\n",
    "articles_sql.count()"
   ]
  }
 ],
 "metadata": {
  "kernelspec": {
   "display_name": "Python 3 (ipykernel)",
   "language": "python",
   "name": "python3"
  },
  "language_info": {
   "codemirror_mode": {
    "name": "ipython",
    "version": 3
   },
   "file_extension": ".py",
   "mimetype": "text/x-python",
   "name": "python",
   "nbconvert_exporter": "python",
   "pygments_lexer": "ipython3",
   "version": "3.8.10"
  }
 },
 "nbformat": 4,
 "nbformat_minor": 5
}
