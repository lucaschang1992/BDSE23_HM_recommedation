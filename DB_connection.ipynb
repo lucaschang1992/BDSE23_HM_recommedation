{
 "cells": [
  {
   "cell_type": "code",
   "execution_count": null,
   "metadata": {},
   "outputs": [],
   "source": [
    "import pymysql\n",
    "\n",
    "class DatabaseConnection:\n",
    "    \n",
    "    def __init__(self,host,user,password,db,charset='utf8',port=3306):\n",
    "        self.db_settings = {\n",
    "            \"host\": host, # \"172.22.33.43\"\n",
    "            \"port\": port,\n",
    "            \"user\": user, # \"maggie\"\n",
    "            \"password\": password, # \"root\"\n",
    "            \"db\": db, # \"HM\"\n",
    "            \"charset\": charset\n",
    "        }\n",
    "\n",
    "    def read_table(self, table_name):\n",
    "        try:\n",
    "            # 建立Connection物件\n",
    "            conn = pymysql.connect(**self.db_settings)\n",
    "            # 建立Cursor物件\n",
    "            with conn.cursor() as cursor:\n",
    "            #資料表相關操作\n",
    "                command = \"SELECT * FROM \"+table_name\n",
    "                cursor.execute(command)\n",
    "                result = cursor.fetchall()\n",
    "                return result\n",
    "            \n",
    "        except Exception as ex:\n",
    "            print(ex)"
   ]
  }
 ],
 "metadata": {
  "language_info": {
   "name": "python"
  },
  "orig_nbformat": 4
 },
 "nbformat": 4,
 "nbformat_minor": 2
}
