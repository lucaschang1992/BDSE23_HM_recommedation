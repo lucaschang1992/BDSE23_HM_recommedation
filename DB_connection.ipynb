{
 "cells": [
  {
   "cell_type": "code",
   "execution_count": null,
   "metadata": {},
   "outputs": [],
   "source": [
    "import pymysql\n",
    "\n",
    "class DatabaseConnection:\n",
    "    \n",
    "    def __init__(self,host,user,password,db,charset='utf8',port=3306):\n",
    "        self.db_settings = {\n",
    "            \"host\": host, # \"172.22.33.44\"\n",
    "            \"port\": port,\n",
    "            \"user\": user, # \"root\"\n",
    "            \"password\": password, # \"root\"\n",
    "            \"db\": db, # \"HM\"\n",
    "            \"charset\": charset\n",
    "        }\n",
    "\n",
    "    def read_table(self, table_name):\n",
    "        try:\n",
    "            # 建立Connection物件\n",
    "            conn = pymysql.connect(**self.db_settings)\n",
    "            # 建立Cursor物件\n",
    "            with conn.cursor() as cursor:\n",
    "            #資料表相關操作\n",
    "                command = \"SELECT * FROM \"+table_name\n",
    "                cursor.execute(command)\n",
    "                result = cursor.fetchall()\n",
    "                return result\n",
    "\n",
    "    def read_article_name(self, article_id):\n",
    "        try:\n",
    "            # 建立Connection物件\n",
    "            conn = pymysql.connect(**self.db_settings)\n",
    "            # 建立Cursor物件\n",
    "            with conn.cursor() as cursor:\n",
    "            #資料表相關操作\n",
    "                command = \"SELECT prod_name FROM articles WHERE article_id=\" + article_id\n",
    "                cursor.execute(command)\n",
    "                result = cursor.fetchall()\n",
    "                return result\n",
    "            \n",
    "        except Exception as ex:\n",
    "            print(ex)"
   ]
  },
  {
   "cell_type": "code",
   "execution_count": 2,
   "metadata": {},
   "outputs": [
    {
     "data": {
      "text/html": [
       "\n",
       "            <div>\n",
       "                <p><b>SparkSession - hive</b></p>\n",
       "                \n",
       "        <div>\n",
       "            <p><b>SparkContext</b></p>\n",
       "\n",
       "            <p><a href=\"http://bdse111.example.com:4041\">Spark UI</a></p>\n",
       "\n",
       "            <dl>\n",
       "              <dt>Version</dt>\n",
       "                <dd><code>v3.2.1</code></dd>\n",
       "              <dt>Master</dt>\n",
       "                <dd><code>local[*]</code></dd>\n",
       "              <dt>AppName</dt>\n",
       "                <dd><code>PySparkShell</code></dd>\n",
       "            </dl>\n",
       "        </div>\n",
       "        \n",
       "            </div>\n",
       "        "
      ],
      "text/plain": [
       "<pyspark.sql.session.SparkSession at 0x7f5f28dec8e0>"
      ]
     },
     "execution_count": 2,
     "metadata": {},
     "output_type": "execute_result"
    }
   ],
   "source": [
    "spark"
   ]
  },
  {
   "cell_type": "code",
   "execution_count": 1,
   "metadata": {},
   "outputs": [],
   "source": []
  },
  {
   "cell_type": "code",
   "execution_count": 3,
   "metadata": {},
   "outputs": [],
   "source": [
    "# mysql 配置(需要修改)\n",
    "prop = {'user': 'maggie',\n",
    "        'password': 'root',\n",
    "        'driver': 'com.mysql.cj.jdbc.Driver'}\n",
    "\n",
    "# database 地址(需要修改)\n",
    "url = 'jdbc:mysql://172.22.33.43:3306/HM?useUnicode=true&characterEncoding=UTF-8&serverTimezone=UTC'"
   ]
  },
  {
   "cell_type": "code",
   "execution_count": 4,
   "metadata": {
    "tags": []
   },
   "outputs": [
    {
     "name": "stdout",
     "output_type": "stream",
     "text": [
      "<class 'pyspark.sql.dataframe.DataFrame'>\n"
     ]
    }
   ],
   "source": [
    "# 讀取表\n",
    "data = spark.read.jdbc(url=url, table='articles', properties=prop)\n",
    "# 打印data數據類型\n",
    "print(type(data))"
   ]
  },
  {
   "cell_type": "code",
   "execution_count": 5,
   "metadata": {},
   "outputs": [
    {
     "name": "stderr",
     "output_type": "stream",
     "text": [
      "                                                                                \r"
     ]
    },
    {
     "data": {
      "text/plain": [
       "105542"
      ]
     },
     "execution_count": 5,
     "metadata": {},
     "output_type": "execute_result"
    }
   ],
   "source": [
    "data.count()"
   ]
  }
 ],
 "metadata": {
  "kernelspec": {
   "display_name": "Python 3 (ipykernel)",
   "language": "python",
   "name": "python3"
  },
  "language_info": {
   "codemirror_mode": {
    "name": "ipython",
    "version": 3
   },
   "file_extension": ".py",
   "mimetype": "text/x-python",
   "name": "python",
   "nbconvert_exporter": "python",
   "pygments_lexer": "ipython3",
   "version": "3.8.10"
  }
 },
 "nbformat": 4,
 "nbformat_minor": 4
}
